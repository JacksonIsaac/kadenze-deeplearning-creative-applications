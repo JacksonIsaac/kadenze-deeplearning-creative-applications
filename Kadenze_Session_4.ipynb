{
  "nbformat": 4,
  "nbformat_minor": 0,
  "metadata": {
    "colab": {
      "name": "Kadenze-Session-4.ipynb",
      "version": "0.3.2",
      "provenance": [],
      "collapsed_sections": [],
      "include_colab_link": true
    }
  },
  "cells": [
    {
      "cell_type": "markdown",
      "metadata": {
        "id": "view-in-github",
        "colab_type": "text"
      },
      "source": [
        "[View in Colaboratory](https://colab.research.google.com/github/JacksonIsaac/kadenze-deeplearning-creative-applications/blob/master/Kadenze_Session_4.ipynb)"
      ]
    },
    {
      "metadata": {
        "id": "E5dzLfeOwmdA",
        "colab_type": "code",
        "colab": {
          "base_uri": "https://localhost:8080/",
          "height": 102
        },
        "outputId": "8453cf0e-92a4-44aa-f01a-88470fe26754"
      },
      "cell_type": "code",
      "source": [
        "!git clone https://github.com/JacksonIsaac/CADL.git\n",
        "!mv CADL/session-4/* ."
      ],
      "execution_count": 1,
      "outputs": [
        {
          "output_type": "stream",
          "text": [
            "Cloning into 'CADL'...\n",
            "remote: Counting objects: 2074, done.\u001b[K\n",
            "remote: Total 2074 (delta 0), reused 0 (delta 0), pack-reused 2074\u001b[K\n",
            "Receiving objects: 100% (2074/2074), 322.71 MiB | 48.11 MiB/s, done.\n",
            "Resolving deltas: 100% (1032/1032), done.\n"
          ],
          "name": "stdout"
        }
      ]
    },
    {
      "metadata": {
        "id": "6qQ3G3GVwrrK",
        "colab_type": "code",
        "colab": {}
      },
      "cell_type": "code",
      "source": [
        ""
      ],
      "execution_count": 0,
      "outputs": []
    }
  ]
}