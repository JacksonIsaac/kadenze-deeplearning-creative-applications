{
  "nbformat": 4,
  "nbformat_minor": 0,
  "metadata": {
    "colab": {
      "name": "Kadenze-Session-2",
      "version": "0.3.2",
      "provenance": [],
      "collapsed_sections": [],
      "include_colab_link": true
    },
    "kernelspec": {
      "name": "python3",
      "display_name": "Python 3"
    },
    "accelerator": "GPU"
  },
  "cells": [
    {
      "cell_type": "markdown",
      "metadata": {
        "id": "view-in-github",
        "colab_type": "text"
      },
      "source": [
        "[View in Colaboratory](https://colab.research.google.com/github/JacksonIsaac/kadenze-deeplearning-creative-applications/blob/master/Kadenze_Session_2.ipynb)"
      ]
    },
    {
      "metadata": {
        "id": "APVoLbCwNm5L",
        "colab_type": "code",
        "colab": {
          "base_uri": "https://localhost:8080/",
          "height": 52
        },
        "outputId": "9a46263b-5e13-4008-c591-d6e571cbf19d"
      },
      "cell_type": "code",
      "source": [
        "%pylab"
      ],
      "execution_count": 13,
      "outputs": [
        {
          "output_type": "stream",
          "text": [
            "Using matplotlib backend: TkAgg\n",
            "Populating the interactive namespace from numpy and matplotlib\n"
          ],
          "name": "stdout"
        }
      ]
    },
    {
      "metadata": {
        "id": "yPZqb1TfNrDR",
        "colab_type": "code",
        "colab": {}
      },
      "cell_type": "code",
      "source": [
        "import os\n",
        "import tensorflow as tf\n",
        "import numpy as np"
      ],
      "execution_count": 0,
      "outputs": []
    },
    {
      "metadata": {
        "id": "pZepwyw4OEjg",
        "colab_type": "code",
        "colab": {
          "base_uri": "https://localhost:8080/",
          "height": 34
        },
        "outputId": "f64e146d-202c-46c1-9b3b-8ca9f8c8dcd7"
      },
      "cell_type": "code",
      "source": [
        "plt"
      ],
      "execution_count": 15,
      "outputs": [
        {
          "output_type": "execute_result",
          "data": {
            "text/plain": [
              "<module 'matplotlib.pyplot' from '/usr/local/lib/python3.6/dist-packages/matplotlib/pyplot.py'>"
            ]
          },
          "metadata": {
            "tags": []
          },
          "execution_count": 15
        }
      ]
    },
    {
      "metadata": {
        "id": "jkXG6MglOF2D",
        "colab_type": "code",
        "colab": {}
      },
      "cell_type": "code",
      "source": [
        "import matplotlib.colors as colors"
      ],
      "execution_count": 0,
      "outputs": []
    },
    {
      "metadata": {
        "id": "ZB-W6Q5mOGyi",
        "colab_type": "code",
        "colab": {}
      },
      "cell_type": "code",
      "source": [
        "import matplotlib.cm as cmx"
      ],
      "execution_count": 0,
      "outputs": []
    },
    {
      "metadata": {
        "id": "90tec2V5OHr1",
        "colab_type": "code",
        "colab": {}
      },
      "cell_type": "code",
      "source": [
        "plt.style.use('ggplot')"
      ],
      "execution_count": 0,
      "outputs": []
    },
    {
      "metadata": {
        "id": "xjryaEAWOUyU",
        "colab_type": "code",
        "colab": {}
      },
      "cell_type": "code",
      "source": [
        "%matplotlib inline"
      ],
      "execution_count": 0,
      "outputs": []
    },
    {
      "metadata": {
        "id": "_Dz1Wzf5OXMA",
        "colab_type": "code",
        "colab": {
          "base_uri": "https://localhost:8080/",
          "height": 34
        },
        "outputId": "8a31631e-a834-441a-8a5a-8332619cf21b"
      },
      "cell_type": "code",
      "source": [
        "fig = plt.figure(figsize=(10,6))"
      ],
      "execution_count": 29,
      "outputs": [
        {
          "output_type": "display_data",
          "data": {
            "text/plain": [
              "<matplotlib.figure.Figure at 0x7f4d372da7b8>"
            ]
          },
          "metadata": {
            "tags": []
          }
        }
      ]
    },
    {
      "metadata": {
        "id": "ftdJNoZBOx2F",
        "colab_type": "code",
        "colab": {}
      },
      "cell_type": "code",
      "source": [
        "ax = fig.gca()"
      ],
      "execution_count": 0,
      "outputs": []
    },
    {
      "metadata": {
        "id": "RC6wVu7MOz9e",
        "colab_type": "code",
        "colab": {}
      },
      "cell_type": "code",
      "source": [
        "x = np.linspace(-1, 1, 200)"
      ],
      "execution_count": 0,
      "outputs": []
    },
    {
      "metadata": {
        "id": "VgcsQWZLPCq3",
        "colab_type": "code",
        "colab": {}
      },
      "cell_type": "code",
      "source": [
        "hz = 10"
      ],
      "execution_count": 0,
      "outputs": []
    },
    {
      "metadata": {
        "id": "dX2bzZ6cPFbU",
        "colab_type": "code",
        "colab": {}
      },
      "cell_type": "code",
      "source": [
        "cost = np.sin(hz*x) * np.exp(-x)"
      ],
      "execution_count": 0,
      "outputs": []
    },
    {
      "metadata": {
        "id": "sJ6UZFcHPMyF",
        "colab_type": "code",
        "colab": {
          "base_uri": "https://localhost:8080/",
          "height": 34
        },
        "outputId": "d5a9d30d-0e7c-486f-8fd1-f89eb14b1b66"
      },
      "cell_type": "code",
      "source": [
        "ax.plot(x, cost)"
      ],
      "execution_count": 30,
      "outputs": [
        {
          "output_type": "execute_result",
          "data": {
            "text/plain": [
              "[<matplotlib.lines.Line2D at 0x7f4d372f1278>]"
            ]
          },
          "metadata": {
            "tags": []
          },
          "execution_count": 30
        }
      ]
    },
    {
      "metadata": {
        "id": "gpZk5K_9QLGo",
        "colab_type": "code",
        "colab": {
          "base_uri": "https://localhost:8080/",
          "height": 34
        },
        "outputId": "d4a19ff0-e380-4b74-e2a1-c680cd06d37f"
      },
      "cell_type": "code",
      "source": [
        "ax.set_ylabel('Cost')\n",
        "ax.set_xlabel('Parameter')"
      ],
      "execution_count": 27,
      "outputs": [
        {
          "output_type": "execute_result",
          "data": {
            "text/plain": [
              "Text(0.5,0,'Parameter')"
            ]
          },
          "metadata": {
            "tags": []
          },
          "execution_count": 27
        }
      ]
    },
    {
      "metadata": {
        "id": "HaJZ1K0QRdvM",
        "colab_type": "code",
        "colab": {}
      },
      "cell_type": "code",
      "source": [
        "gradient = np.diff(cost)"
      ],
      "execution_count": 0,
      "outputs": []
    },
    {
      "metadata": {
        "id": "CS1Gbto3Upyr",
        "colab_type": "code",
        "colab": {
          "base_uri": "https://localhost:8080/",
          "height": 712
        },
        "outputId": "2542dbdb-679d-4eb4-884c-7f338a55323c"
      },
      "cell_type": "code",
      "source": [
        "gradient"
      ],
      "execution_count": 51,
      "outputs": [
        {
          "output_type": "execute_result",
          "data": {
            "text/plain": [
              "array([-0.24873082, -0.25619419, -0.26092369, -0.26292601, -0.2622352 ,\n",
              "       -0.25891185, -0.25304186, -0.24473515, -0.23412404, -0.22136147,\n",
              "       -0.20661904, -0.19008492, -0.17196161, -0.15246364, -0.13181511,\n",
              "       -0.11024729, -0.08799612, -0.06529976, -0.04239608, -0.01952035,\n",
              "        0.00309714,  0.02523329,  0.0466743 ,  0.06721764,  0.08667384,\n",
              "        0.10486822,  0.12164227,  0.13685499,  0.15038393,  0.16212607,\n",
              "        0.17199848,  0.17993873,  0.18590515,  0.18987682,  0.19185333,\n",
              "        0.19185446,  0.1899195 ,  0.1861065 ,  0.18049131,  0.17316648,\n",
              "        0.16423992,  0.1538336 ,  0.14208198,  0.12913042,  0.11513349,\n",
              "        0.10025325,  0.08465744,  0.06851767,  0.05200765,  0.03530134,\n",
              "        0.01857126,  0.00198669, -0.0142879 , -0.03009444, -0.04528275,\n",
              "       -0.05971184, -0.07325123, -0.08578198, -0.09719771, -0.10740543,\n",
              "       -0.11632614, -0.12389545, -0.13006386, -0.13479701, -0.13807568,\n",
              "       -0.13989574, -0.14026785, -0.13921706, -0.1367823 , -0.13301567,\n",
              "       -0.12798169, -0.12175639, -0.11442628, -0.10608732, -0.09684375,\n",
              "       -0.08680684, -0.07609367, -0.0648258 , -0.05312798, -0.04112681,\n",
              "       -0.02894944, -0.01672226, -0.00456965,  0.00738725,  0.01903165,\n",
              "        0.03025228,  0.04094433,  0.05101043,  0.06036145,  0.06891726,\n",
              "        0.07660735,  0.08337133,  0.08915939,  0.09393252,  0.09766277,\n",
              "        0.10033324,  0.10193807,  0.10248227,  0.10198146,  0.10046149,\n",
              "        0.09795797,  0.09451575,  0.09018824,  0.08503672,  0.07912959,\n",
              "        0.07254148,  0.06535244,  0.05764696,  0.04951309,  0.04104143,\n",
              "        0.03232418,  0.02345422,  0.01452408,  0.00562508, -0.00315359,\n",
              "       -0.01172574, -0.02000899, -0.02792548, -0.03540262, -0.04237372,\n",
              "       -0.04877848, -0.05456355, -0.05968288, -0.06409805, -0.06777853,\n",
              "       -0.07070179, -0.07285341, -0.07422702, -0.07482424, -0.07465451,\n",
              "       -0.07373479, -0.07208929, -0.06974906, -0.06675153, -0.06314005,\n",
              "       -0.05896326, -0.05427458, -0.04913149, -0.04359495, -0.03772866,\n",
              "       -0.03159837, -0.02527121, -0.01881493, -0.01229726, -0.0057852 ,\n",
              "        0.00065565,  0.00696172,  0.01307204,  0.01892885,  0.0244781 ,\n",
              "        0.0296699 ,  0.03445897,  0.03880501,  0.04267297,  0.04603333,\n",
              "        0.04886228,  0.05114184,  0.05285996,  0.05401046,  0.05459303,\n",
              "        0.05461308,  0.05408162,  0.05301498,  0.05143458,  0.04936658,\n",
              "        0.04684156,  0.04389409,  0.04056233,  0.03688754,  0.03291363,\n",
              "        0.02868666,  0.02425432,  0.01966543,  0.0149694 ,  0.01021576,\n",
              "        0.00545363,  0.00073123, -0.00390458, -0.00840873, -0.01273839,\n",
              "       -0.01685335, -0.02071634, -0.02429341, -0.02755415, -0.03047193,\n",
              "       -0.03302415, -0.03519233, -0.03696222, -0.03832389, -0.03927172,\n",
              "       -0.03980439, -0.03992479, -0.03963989, -0.03896064, -0.03790174,\n",
              "       -0.03648144, -0.03472125, -0.03264571, -0.03028203])"
            ]
          },
          "metadata": {
            "tags": []
          },
          "execution_count": 51
        }
      ]
    },
    {
      "metadata": {
        "id": "1Pb3LhGORz95",
        "colab_type": "code",
        "colab": {}
      },
      "cell_type": "code",
      "source": [
        "n_iterations = 500\n",
        "cmap = plt.get_cmap('coolwarm')\n",
        "c_norm = colors.Normalize(vmin=0, vmax=n_iterations)"
      ],
      "execution_count": 0,
      "outputs": []
    },
    {
      "metadata": {
        "id": "p2GEt1aQSM9u",
        "colab_type": "code",
        "colab": {}
      },
      "cell_type": "code",
      "source": [
        "scalar_map = cmx.ScalarMappable(norm=c_norm, cmap=cmap)"
      ],
      "execution_count": 0,
      "outputs": []
    },
    {
      "metadata": {
        "id": "b-cEWmrVSsog",
        "colab_type": "code",
        "colab": {}
      },
      "cell_type": "code",
      "source": [
        "init_p = 120 #np.random.randint(len(x)*0.2, len(x)*0.8)"
      ],
      "execution_count": 0,
      "outputs": []
    },
    {
      "metadata": {
        "id": "HJqTZJ2lUHS-",
        "colab_type": "code",
        "colab": {}
      },
      "cell_type": "code",
      "source": [
        "learning_rate = 1.0"
      ],
      "execution_count": 0,
      "outputs": []
    },
    {
      "metadata": {
        "id": "XyIYf8A4TpjO",
        "colab_type": "code",
        "colab": {}
      },
      "cell_type": "code",
      "source": [
        "for iter_i in range(n_iterations):\n",
        "    #print(init_p)\n",
        "    init_p -= int(learning_rate * gradient[init_p])\n",
        "    #print(init_p)\n",
        "    ax.plot(x[init_p], cost[init_p], 'ro', alpha=(iter_i + 1)/n_iterations, color=scalar_map.to_rgba(iter_i))"
      ],
      "execution_count": 0,
      "outputs": []
    },
    {
      "metadata": {
        "id": "pjFja0rCUFbg",
        "colab_type": "code",
        "colab": {}
      },
      "cell_type": "code",
      "source": [
        ""
      ],
      "execution_count": 0,
      "outputs": []
    }
  ]
}