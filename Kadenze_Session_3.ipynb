{
  "nbformat": 4,
  "nbformat_minor": 0,
  "metadata": {
    "colab": {
      "name": "Kadenze-Session-3.ipynb",
      "version": "0.3.2",
      "provenance": [],
      "collapsed_sections": [],
      "include_colab_link": true
    },
    "kernelspec": {
      "name": "python3",
      "display_name": "Python 3"
    },
    "accelerator": "GPU"
  },
  "cells": [
    {
      "cell_type": "markdown",
      "metadata": {
        "id": "view-in-github",
        "colab_type": "text"
      },
      "source": [
        "[View in Colaboratory](https://colab.research.google.com/github/JacksonIsaac/kadenze-deeplearning-creative-applications/blob/master/Kadenze_Session_3.ipynb)"
      ]
    },
    {
      "metadata": {
        "id": "sOqj_LhRwcgT",
        "colab_type": "code",
        "colab": {}
      },
      "cell_type": "code",
      "source": [
        "%matplotlib inline\n",
        "#%pylab\n",
        "\n",
        "import numpy as np\n",
        "import tensorflow as tf\n",
        "import matplotlib.pyplot as plt\n",
        "import matplotlib.colors as colors\n",
        "import matplotlib.cm as cmx\n",
        "\n",
        "plt.style.use('ggplot')"
      ],
      "execution_count": 0,
      "outputs": []
    },
    {
      "metadata": {
        "id": "DZ4EIY-C6vB-",
        "colab_type": "code",
        "colab": {
          "base_uri": "https://localhost:8080/",
          "height": 102
        },
        "outputId": "77a3f1f8-8cbd-4ee3-fcc8-5fa437199d77"
      },
      "cell_type": "code",
      "source": [
        "!git clone https://github.com/JacksonIsaac/CADL.git\n",
        "!mv CADL/session-3/* ."
      ],
      "execution_count": 2,
      "outputs": [
        {
          "output_type": "stream",
          "text": [
            "Cloning into 'CADL'...\n",
            "remote: Counting objects: 2074, done.\u001b[K\n",
            "remote: Total 2074 (delta 0), reused 0 (delta 0), pack-reused 2074\u001b[K\n",
            "Receiving objects: 100% (2074/2074), 322.71 MiB | 38.96 MiB/s, done.\n",
            "Resolving deltas: 100% (1032/1032), done.\n"
          ],
          "name": "stdout"
        }
      ]
    },
    {
      "metadata": {
        "id": "NjKlqvlN8lvp",
        "colab_type": "code",
        "colab": {}
      },
      "cell_type": "code",
      "source": [
        "from libs.utils import montage\n",
        "from libs import gif\n",
        "from libs.datasets import MNIST"
      ],
      "execution_count": 0,
      "outputs": []
    },
    {
      "metadata": {
        "id": "vFjONRiY9WsE",
        "colab_type": "code",
        "colab": {
          "base_uri": "https://localhost:8080/",
          "height": 530
        },
        "outputId": "91efa712-3181-4f5f-920e-f70c46972235"
      },
      "cell_type": "code",
      "source": [
        "ds = MNIST()"
      ],
      "execution_count": 4,
      "outputs": [
        {
          "output_type": "stream",
          "text": [
            "WARNING:tensorflow:From /content/libs/datasets.py:18: read_data_sets (from tensorflow.contrib.learn.python.learn.datasets.mnist) is deprecated and will be removed in a future version.\n",
            "Instructions for updating:\n",
            "Please use alternatives such as official/mnist/dataset.py from tensorflow/models.\n",
            "WARNING:tensorflow:From /usr/local/lib/python3.6/dist-packages/tensorflow/contrib/learn/python/learn/datasets/mnist.py:260: maybe_download (from tensorflow.contrib.learn.python.learn.datasets.base) is deprecated and will be removed in a future version.\n",
            "Instructions for updating:\n",
            "Please write your own downloading logic.\n",
            "WARNING:tensorflow:From /usr/local/lib/python3.6/dist-packages/tensorflow/contrib/learn/python/learn/datasets/base.py:252: _internal_retry.<locals>.wrap.<locals>.wrapped_fn (from tensorflow.contrib.learn.python.learn.datasets.base) is deprecated and will be removed in a future version.\n",
            "Instructions for updating:\n",
            "Please use urllib or similar directly.\n",
            "Successfully downloaded train-images-idx3-ubyte.gz 9912422 bytes.\n",
            "WARNING:tensorflow:From /usr/local/lib/python3.6/dist-packages/tensorflow/contrib/learn/python/learn/datasets/mnist.py:262: extract_images (from tensorflow.contrib.learn.python.learn.datasets.mnist) is deprecated and will be removed in a future version.\n",
            "Instructions for updating:\n",
            "Please use tf.data to implement this functionality.\n",
            "Extracting MNIST_data/train-images-idx3-ubyte.gz\n",
            "Successfully downloaded train-labels-idx1-ubyte.gz 28881 bytes.\n",
            "WARNING:tensorflow:From /usr/local/lib/python3.6/dist-packages/tensorflow/contrib/learn/python/learn/datasets/mnist.py:267: extract_labels (from tensorflow.contrib.learn.python.learn.datasets.mnist) is deprecated and will be removed in a future version.\n",
            "Instructions for updating:\n",
            "Please use tf.data to implement this functionality.\n",
            "Extracting MNIST_data/train-labels-idx1-ubyte.gz\n",
            "WARNING:tensorflow:From /usr/local/lib/python3.6/dist-packages/tensorflow/contrib/learn/python/learn/datasets/mnist.py:110: dense_to_one_hot (from tensorflow.contrib.learn.python.learn.datasets.mnist) is deprecated and will be removed in a future version.\n",
            "Instructions for updating:\n",
            "Please use tf.one_hot on tensors.\n",
            "Successfully downloaded t10k-images-idx3-ubyte.gz 1648877 bytes.\n",
            "Extracting MNIST_data/t10k-images-idx3-ubyte.gz\n",
            "Successfully downloaded t10k-labels-idx1-ubyte.gz 4542 bytes.\n",
            "Extracting MNIST_data/t10k-labels-idx1-ubyte.gz\n",
            "WARNING:tensorflow:From /usr/local/lib/python3.6/dist-packages/tensorflow/contrib/learn/python/learn/datasets/mnist.py:290: DataSet.__init__ (from tensorflow.contrib.learn.python.learn.datasets.mnist) is deprecated and will be removed in a future version.\n",
            "Instructions for updating:\n",
            "Please use alternatives such as official/mnist/dataset.py from tensorflow/models.\n"
          ],
          "name": "stdout"
        }
      ]
    },
    {
      "metadata": {
        "id": "TWCZzDd9_mC2",
        "colab_type": "code",
        "colab": {
          "base_uri": "https://localhost:8080/",
          "height": 34
        },
        "outputId": "dd54401d-0cf0-4e62-dd05-2f240a07cd2d"
      },
      "cell_type": "code",
      "source": [
        "ds.X.shape"
      ],
      "execution_count": 5,
      "outputs": [
        {
          "output_type": "execute_result",
          "data": {
            "text/plain": [
              "(70000, 784)"
            ]
          },
          "metadata": {
            "tags": []
          },
          "execution_count": 5
        }
      ]
    },
    {
      "metadata": {
        "id": "OmNW7SJjAAlT",
        "colab_type": "code",
        "colab": {
          "base_uri": "https://localhost:8080/",
          "height": 282
        },
        "outputId": "2b8640ee-2391-4b2a-9b53-c2f571cb9893"
      },
      "cell_type": "code",
      "source": [
        "plt.imshow(ds.X[0].reshape((28,28)))"
      ],
      "execution_count": 6,
      "outputs": [
        {
          "output_type": "execute_result",
          "data": {
            "text/plain": [
              "<matplotlib.image.AxesImage at 0x7ff1f402cc50>"
            ]
          },
          "metadata": {
            "tags": []
          },
          "execution_count": 6
        },
        {
          "output_type": "display_data",
          "data": {
            "image/png": "[encoded data removed]",
            "text/plain": [
              "<matplotlib.figure.Figure at 0x7ff1f4059128>"
            ]
          },
          "metadata": {
            "tags": []
          }
        }
      ]
    },
    {
      "metadata": {
        "id": "dhXtPOxWAJVi",
        "colab_type": "code",
        "colab": {
          "base_uri": "https://localhost:8080/",
          "height": 286
        },
        "outputId": "5b3ab061-23a7-4a8d-a571-eea9d5a57c60"
      },
      "cell_type": "code",
      "source": [
        "imgs = ds.X[:1000].reshape((-1, 28, 28))\n",
        "plt.imshow(montage(imgs), cmap='gray')"
      ],
      "execution_count": 7,
      "outputs": [
        {
          "output_type": "execute_result",
          "data": {
            "text/plain": [
              "<matplotlib.image.AxesImage at 0x7ff1f172dcc0>"
            ]
          },
          "metadata": {
            "tags": []
          },
          "execution_count": 7
        },
        {
          "output_type": "display_data",
          "data": {
            "image/png": "[encoded data removed]",
            "text/plain": [
              "<matplotlib.figure.Figure at 0x7ff1f3ff28d0>"
            ]
          },
          "metadata": {
            "tags": []
          }
        }
      ]
    },
    {
      "metadata": {
        "id": "Hb9EXOc_AZ_p",
        "colab_type": "code",
        "colab": {
          "base_uri": "https://localhost:8080/",
          "height": 282
        },
        "outputId": "7b123ecb-9e9a-48ce-fee2-344d77d8983c"
      },
      "cell_type": "code",
      "source": [
        "mean_img = np.mean(ds.X, axis=0)\n",
        "plt.figure()\n",
        "plt.imshow(mean_img.reshape((28, 28)), cmap='gray')"
      ],
      "execution_count": 8,
      "outputs": [
        {
          "output_type": "execute_result",
          "data": {
            "text/plain": [
              "<matplotlib.image.AxesImage at 0x7ff1f1710ba8>"
            ]
          },
          "metadata": {
            "tags": []
          },
          "execution_count": 8
        },
        {
          "output_type": "display_data",
          "data": {
            "image/png": "[encoded data removed]",
            "text/plain": [
              "<matplotlib.figure.Figure at 0x7ff1f1780748>"
            ]
          },
          "metadata": {
            "tags": []
          }
        }
      ]
    },
    {
      "metadata": {
        "id": "20T8wG2NAmhg",
        "colab_type": "code",
        "colab": {
          "base_uri": "https://localhost:8080/",
          "height": 282
        },
        "outputId": "ef119ad9-6ed0-4f7a-de78-f089dab14f11"
      },
      "cell_type": "code",
      "source": [
        "std_img = np.std(ds.X, axis=0)\n",
        "plt.figure()\n",
        "plt.imshow(std_img.reshape((28, 28)), cmap='gray')"
      ],
      "execution_count": 9,
      "outputs": [
        {
          "output_type": "execute_result",
          "data": {
            "text/plain": [
              "<matplotlib.image.AxesImage at 0x7ff1f1677198>"
            ]
          },
          "metadata": {
            "tags": []
          },
          "execution_count": 9
        },
        {
          "output_type": "display_data",
          "data": {
            "image/png": "[encoded data removed]",
            "text/plain": [
              "<matplotlib.figure.Figure at 0x7ff1f4059048>"
            ]
          },
          "metadata": {
            "tags": []
          }
        }
      ]
    },
    {
      "metadata": {
        "id": "UKpB3jNjsMS_",
        "colab_type": "code",
        "colab": {}
      },
      "cell_type": "code",
      "source": [
        "dimensions = [512, 256, 128, 64]"
      ],
      "execution_count": 0,
      "outputs": []
    },
    {
      "metadata": {
        "id": "q9sERE4LsxTs",
        "colab_type": "code",
        "colab": {
          "base_uri": "https://localhost:8080/",
          "height": 34
        },
        "outputId": "8fce257e-e051-4450-9db3-84fb88577cbe"
      },
      "cell_type": "code",
      "source": [
        "n_features = ds.X.shape[1]\n",
        "\n",
        "## [None, n] means that it can have any no of rows m\n",
        "X = tf.placeholder(tf.float32, [None, n_features])\n",
        "\n",
        "current_input = X\n",
        "n_input = n_features\n",
        "\n",
        "\n",
        "## For Encoder\n",
        "Ws = []\n",
        "\n",
        "for layer_i, n_output in enumerate(dimensions):\n",
        "    with tf.variable_scope('encoder/layer/{}'.format(layer_i)):\n",
        "        \n",
        "        W = tf.get_variable(\n",
        "            name = 'W',\n",
        "            shape = [n_input, n_output],\n",
        "            initializer = tf.random_normal_initializer(mean=0.0, stddev=0.02)\n",
        "        )\n",
        "        \n",
        "        h = tf.matmul(current_input, W)\n",
        "        \n",
        "        current_input = tf.nn.relu(h)\n",
        "        \n",
        "        Ws.append(W)\n",
        "        \n",
        "        n_input = n_output\n",
        "        \n",
        "Ws = Ws[::-1]\n",
        "\n",
        "dimensions = dimensions[::-1][1:] + [ds.X.shape[1]]\n",
        "\n",
        "print(dimensions)\n",
        "\n",
        "## Decoder\n",
        "\n",
        "for layer_i, n_output in enumerate(dimensions):\n",
        "    with tf.variable_scope('decoder/layer/{}'.format(layer_i)):\n",
        "        \n",
        "        W = tf.transpose(Ws[layer_i])\n",
        "        \n",
        "        h = tf.matmul(current_input, W)\n",
        "        \n",
        "        current_input = tf.nn.relu(h)\n",
        "        \n",
        "        n_input = n_output"
      ],
      "execution_count": 11,
      "outputs": [
        {
          "output_type": "stream",
          "text": [
            "[128, 256, 512, 784]\n"
          ],
          "name": "stdout"
        }
      ]
    },
    {
      "metadata": {
        "id": "YjjkfUTXagaq",
        "colab_type": "code",
        "colab": {
          "base_uri": "https://localhost:8080/",
          "height": 34
        },
        "outputId": "5a1454d3-7dd8-4a06-9778-b12e4ce16e17"
      },
      "cell_type": "code",
      "source": [
        "Y = current_input\n",
        "\n",
        "cost = tf.reduce_mean(tf.squared_difference(X, Y), 1)\n",
        "\n",
        "print(cost.get_shape())"
      ],
      "execution_count": 12,
      "outputs": [
        {
          "output_type": "stream",
          "text": [
            "(?,)\n"
          ],
          "name": "stdout"
        }
      ]
    },
    {
      "metadata": {
        "id": "Kq27ZgCnpV1N",
        "colab_type": "code",
        "colab": {
          "base_uri": "https://localhost:8080/",
          "height": 439
        },
        "outputId": "af0ef5cf-7d2f-4c1c-ae88-b82929299d62"
      },
      "cell_type": "code",
      "source": [
        "cost = tf.reduce_mean(cost)\n",
        "\n",
        "learning_rate = 0.001\n",
        "optimizer = tf.train.AdamOptimizer(learning_rate).minimize(cost)\n",
        "\n",
        "sess = tf.Session()\n",
        "sess.run(tf.global_variables_initializer())\n",
        "\n",
        "batch_size = 100\n",
        "n_epochs = 10\n",
        "\n",
        "examples = ds.X[:100]\n",
        "\n",
        "imgs = []\n",
        "\n",
        "fig, ax = plt.subplots(1,1)\n",
        "\n",
        "for epoch_i in range(n_epochs):\n",
        "    for batch_X, _ in ds.train.next_batch():\n",
        "        sess.run(optimizer, feed_dict={X: batch_X - mean_img})\n",
        "    recon = sess.run(Y, feed_dict={X: examples - mean_img})\n",
        "    recon = np.clip((recon + mean_img).reshape((-1, 28,28)), 0, 255)\n",
        "    \n",
        "    img_i = montage(recon).astype(np.uint8)\n",
        "    imgs.append(img_i)\n",
        "    \n",
        "    ax.imshow(img_i, cmap='gray')\n",
        "    \n",
        "    fig.canvas.draw()\n",
        "    \n",
        "    print(epoch_i, sess.run(cost, feed_dict={X: batch_X - mean_img}))\n",
        "    \n",
        "#gif.build_gif(imgs, saveto='ae.gif', cmap='gray')"
      ],
      "execution_count": 13,
      "outputs": [
        {
          "output_type": "stream",
          "text": [
            "0 0.044552326\n",
            "1 0.039032694\n",
            "2 0.034451783\n",
            "3 0.032447733\n",
            "4 0.030514143\n",
            "5 0.030602163\n",
            "6 0.029294284\n",
            "7 0.029392514\n",
            "8 0.028859029\n",
            "9 0.028345073\n"
          ],
          "name": "stdout"
        },
        {
          "output_type": "display_data",
          "data": {
            "image/png": "[encoded data removed]",
            "text/plain": [
              "<matplotlib.figure.Figure at 0x7ff1f15b5b70>"
            ]
          },
          "metadata": {
            "tags": []
          }
        }
      ]
    },
    {
      "metadata": {
        "id": "EFvT-1zxrOsC",
        "colab_type": "code",
        "colab": {}
      },
      "cell_type": "code",
      "source": [
        "#import IPython.display as ipyd\n",
        "#ipyd.Image(url='ae.gif?{}'.format(np.random.rand()),\n",
        "#           height=500, width=500)"
      ],
      "execution_count": 0,
      "outputs": []
    },
    {
      "metadata": {
        "id": "N_cFfT3HuOtf",
        "colab_type": "code",
        "colab": {}
      },
      "cell_type": "code",
      "source": [
        "from tensorflow.python.framework.ops import reset_default_graph"
      ],
      "execution_count": 0,
      "outputs": []
    },
    {
      "metadata": {
        "id": "R99T7grxyOlR",
        "colab_type": "code",
        "colab": {}
      },
      "cell_type": "code",
      "source": [
        "reset_default_graph()"
      ],
      "execution_count": 0,
      "outputs": []
    },
    {
      "metadata": {
        "id": "xVkjbdHd-rmn",
        "colab_type": "code",
        "colab": {
          "base_uri": "https://localhost:8080/",
          "height": 34
        },
        "outputId": "f2369e76-5dda-455d-88e5-771062180335"
      },
      "cell_type": "code",
      "source": [
        "X = tf.placeholder(tf.float32, [None, n_features])\n",
        "\n",
        "## Reshape placeholder to 4d for convolutional input\n",
        "## Batch dimension will be filled in place of -1 and\n",
        "## the shape of the image remains constant.\n",
        "X_tensor = tf.reshape(X, [-1, 28, 28, 1])\n",
        "\n",
        "n_filters = [16, 16, 16]\n",
        "filter_size = [4, 4, 4]\n",
        "\n",
        "current_input = X_tensor\n",
        "\n",
        "n_input = 1 # Number of channels in an image\n",
        "\n",
        "# Will use convolution to find 16 filters/channels of information\n",
        "Ws = []\n",
        "shapes = []\n",
        "\n",
        "for layer_i, n_output in enumerate(n_filters):\n",
        "    with tf.variable_scope('encoder/layer/{}'.format(layer_i)):\n",
        "        shapes.append(current_input.get_shape().as_list())\n",
        "        \n",
        "        W = tf.get_variable(\n",
        "            name='W',\n",
        "            shape=[\n",
        "                filter_size[layer_i], # height\n",
        "                filter_size[layer_i], # width\n",
        "                n_input, # No. of input channels\n",
        "                n_output # No. of output channels\n",
        "            ],\n",
        "            initializer=tf.random_normal_initializer(mean=0.0, stddev=0.02)\n",
        "        )\n",
        "        \n",
        "        # [1, 2, 2, 1]\n",
        "        # [batch_dimension, next height, next width, #channel]\n",
        "        # Take every image. Apply to every other height and width. \n",
        "        # Apply to every channel.\n",
        "        \n",
        "        h = tf.nn.conv2d(current_input, W, strides=[1, 2, 2, 1], padding='SAME')\n",
        "        \n",
        "        current_input = tf.nn.relu(h)\n",
        "        \n",
        "        Ws.append(W)\n",
        "        \n",
        "        n_input = n_output\n",
        "        \n",
        "Ws.reverse()\n",
        "shapes.reverse()\n",
        "n_filters.reverse()\n",
        "\n",
        "n_filters = n_filters[1:] + [1]\n",
        "\n",
        "print(n_filters, filter_size, shapes)\n",
        "\n",
        "for layer_i, shape in enumerate(shapes):\n",
        "    with tf.variable_scope('decoder/layer/{}'.format(layer_i)):\n",
        "        W = Ws[layer_i]\n",
        "        \n",
        "        h = tf.nn.conv2d_transpose(\n",
        "            current_input, W,\n",
        "            tf.stack([tf.shape(X)[0], shape[1], shape[2], shape[3]]),\n",
        "            strides=[1, 2, 2, 1], padding='SAME'\n",
        "        )\n",
        "        \n",
        "        current_input = tf.nn.relu(h)"
      ],
      "execution_count": 17,
      "outputs": [
        {
          "output_type": "stream",
          "text": [
            "[16, 16, 1] [4, 4, 4] [[None, 7, 7, 16], [None, 14, 14, 16], [None, 28, 28, 1]]\n"
          ],
          "name": "stdout"
        }
      ]
    },
    {
      "metadata": {
        "id": "pSum_o2M9OA2",
        "colab_type": "code",
        "colab": {
          "base_uri": "https://localhost:8080/",
          "height": 510
        },
        "outputId": "e22eea2b-e18b-45a7-8f43-301efe4dd61d"
      },
      "cell_type": "code",
      "source": [
        "Y = current_input\n",
        "Y = tf.reshape(Y, [-1, n_features])\n",
        "\n",
        "cost = tf.reduce_mean(tf.reduce_mean(tf.squared_difference(X, Y), 1))\n",
        "\n",
        "learning_rate = 0.001\n",
        "\n",
        "optimizer = tf.train.AdamOptimizer(learning_rate).minimize(cost)\n",
        "\n",
        "sess = tf.Session()\n",
        "\n",
        "sess.run(tf.initialize_all_variables())\n",
        "\n",
        "batch_size = 100\n",
        "n_epoch = 10\n",
        "\n",
        "examples = ds.X[:100]\n",
        "\n",
        "imgs = []\n",
        "fig, ax = plt.subplots(1, 1)\n",
        "for epoch_i in range(n_epochs):\n",
        "    for batch_X, _ in ds.train.next_batch():\n",
        "        sess.run(optimizer, feed_dict={X: batch_X - mean_img})\n",
        "    recon = sess.run(Y, feed_dict={X: examples - mean_img})\n",
        "    recon = np.clip((recon + mean_img).reshape((-1, 28, 28)), 0, 255)\n",
        "    img_i = montage(recon).astype(np.uint8)\n",
        "    imgs.append(img_i)\n",
        "    ax.imshow(img_i, cmap='gray')\n",
        "    fig.canvas.draw()\n",
        "    print(epoch_i, sess.run(cost, feed_dict={X: batch_X - mean_img}))\n",
        "#gif.build_gif(imgs, saveto='conv-ae.gif', cmap='gray')"
      ],
      "execution_count": 18,
      "outputs": [
        {
          "output_type": "stream",
          "text": [
            "WARNING:tensorflow:From /usr/local/lib/python3.6/dist-packages/tensorflow/python/util/tf_should_use.py:118: initialize_all_variables (from tensorflow.python.ops.variables) is deprecated and will be removed after 2017-03-02.\n",
            "Instructions for updating:\n",
            "Use `tf.global_variables_initializer` instead.\n",
            "0 0.026817413\n",
            "1 0.025753872\n",
            "2 0.02484877\n",
            "3 0.024962569\n",
            "4 0.02444536\n",
            "5 0.02388221\n",
            "6 0.024723776\n",
            "7 0.023835815\n",
            "8 0.024841297\n",
            "9 0.023660423\n"
          ],
          "name": "stdout"
        },
        {
          "output_type": "display_data",
          "data": {
            "image/png": "[encoded data removed]",
            "text/plain": [
              "<matplotlib.figure.Figure at 0x7ff1aaccb4e0>"
            ]
          },
          "metadata": {
            "tags": []
          }
        }
      ]
    },
    {
      "metadata": {
        "id": "Wd2Y4muIrqQI",
        "colab_type": "code",
        "colab": {}
      },
      "cell_type": "code",
      "source": [
        "from libs import datasets"
      ],
      "execution_count": 0,
      "outputs": []
    },
    {
      "metadata": {
        "id": "0KjVcmhlr-DE",
        "colab_type": "code",
        "colab": {
          "base_uri": "https://localhost:8080/",
          "height": 965
        },
        "outputId": "02fd9323-a925-4b4d-c447-5ac28de02f72"
      },
      "cell_type": "code",
      "source": [
        "ds = datasets.MNIST(one_hot=False)\n",
        "print(ds.Y[0])\n",
        "plt.imshow(np.reshape(ds.X[0], (28, 28)), cmap='gray')\n",
        "\n",
        "plt.figure()\n",
        "\n",
        "print(ds.Y[1])\n",
        "plt.imshow(np.reshape(ds.X[1], (28, 28)), cmap='gray')\n",
        "\n",
        "ds = datasets.MNIST(one_hot=True)\n",
        "\n",
        "plt.figure()\n",
        "\n",
        "print(ds.Y[0])\n",
        "plt.imshow(np.reshape(ds.X[0], (28, 28)), cmap='gray')"
      ],
      "execution_count": 20,
      "outputs": [
        {
          "output_type": "stream",
          "text": [
            "Extracting MNIST_data/train-images-idx3-ubyte.gz\n",
            "Extracting MNIST_data/train-labels-idx1-ubyte.gz\n",
            "Extracting MNIST_data/t10k-images-idx3-ubyte.gz\n",
            "Extracting MNIST_data/t10k-labels-idx1-ubyte.gz\n",
            "5\n",
            "9\n",
            "Extracting MNIST_data/train-images-idx3-ubyte.gz\n",
            "Extracting MNIST_data/train-labels-idx1-ubyte.gz\n",
            "Extracting MNIST_data/t10k-images-idx3-ubyte.gz\n",
            "Extracting MNIST_data/t10k-labels-idx1-ubyte.gz\n",
            "[0. 0. 0. 0. 0. 0. 1. 0. 0. 0.]\n"
          ],
          "name": "stdout"
        },
        {
          "output_type": "execute_result",
          "data": {
            "text/plain": [
              "<matplotlib.image.AxesImage at 0x7ff18221e2b0>"
            ]
          },
          "metadata": {
            "tags": []
          },
          "execution_count": 20
        },
        {
          "output_type": "display_data",
          "data": {
            "image/png": "[encoded data removed]",
            "text/plain": [
              "<matplotlib.figure.Figure at 0x7ff1f16b9eb8>"
            ]
          },
          "metadata": {
            "tags": []
          }
        },
        {
          "output_type": "display_data",
          "data": {
            "image/png": "[encoded data removed]",
            "text/plain": [
              "<matplotlib.figure.Figure at 0x7ff1c4fdad30>"
            ]
          },
          "metadata": {
            "tags": []
          }
        },
        {
          "output_type": "display_data",
          "data": {
            "image/png": "[encoded data removed]",
            "text/plain": [
              "<matplotlib.figure.Figure at 0x7ff18f3fc780>"
            ]
          },
          "metadata": {
            "tags": []
          }
        }
      ]
    },
    {
      "metadata": {
        "id": "yUkxFXLn-HYN",
        "colab_type": "code",
        "colab": {}
      },
      "cell_type": "code",
      "source": [
        "from libs import utils"
      ],
      "execution_count": 0,
      "outputs": []
    },
    {
      "metadata": {
        "id": "-r6CTlduu7Lh",
        "colab_type": "code",
        "colab": {
          "base_uri": "https://localhost:8080/",
          "height": 85
        },
        "outputId": "c337b809-dbbb-445c-ce3d-d568380180e0"
      },
      "cell_type": "code",
      "source": [
        "reset_default_graph()\n",
        "\n",
        "ds = datasets.MNIST(one_hot=True, split=[0.8, 0.1, 0.1])\n",
        "\n",
        "n_input = 28 * 28 # Input image dimensions\n",
        "n_output = 10 # 10 One-hot encoded output labels\n",
        "\n",
        "X = tf.placeholder(tf.float32, [None, n_input])\n",
        "Y = tf.placeholder(tf.float32, [None, n_output])\n",
        "\n",
        "## utils.linear returns weight, predictions.\n",
        "## Hence, For Y_pred we have used utils.linear(...)[0]\n",
        "Y_pred, W = utils.linear(\n",
        "    x=X,\n",
        "    n_output=n_output,\n",
        "    activation=tf.nn.softmax,\n",
        "    name='layer1')\n",
        "\n",
        "## Take log of Y_pred + Epsilon, where epsilon is very small number.\n",
        "## This makes sure that we are not taking log(0).\n",
        "cross_entropy = -tf.reduce_sum(Y * tf.log(Y_pred + 1e-12))\n",
        "\n",
        "learning_rate = 0.001\n",
        "\n",
        "optimizer = tf.train.AdamOptimizer(learning_rate).minimize(cross_entropy)\n",
        "\n",
        "predicted_y = tf.argmax(Y_pred, 1)\n",
        "actual_y = tf.argmax(Y, 1)\n",
        "\n",
        "correct_prediction = tf.equal(predicted_y, actual_y)\n",
        "accuracy = tf.reduce_mean(tf.cast(correct_prediction, \"float\"))"
      ],
      "execution_count": 22,
      "outputs": [
        {
          "output_type": "stream",
          "text": [
            "Extracting MNIST_data/train-images-idx3-ubyte.gz\n",
            "Extracting MNIST_data/train-labels-idx1-ubyte.gz\n",
            "Extracting MNIST_data/t10k-images-idx3-ubyte.gz\n",
            "Extracting MNIST_data/t10k-labels-idx1-ubyte.gz\n"
          ],
          "name": "stdout"
        }
      ]
    },
    {
      "metadata": {
        "id": "ULDs_OE--Bsu",
        "colab_type": "code",
        "colab": {
          "base_uri": "https://localhost:8080/",
          "height": 204
        },
        "outputId": "c04db804-458f-4627-baec-77dabee82b1e"
      },
      "cell_type": "code",
      "source": [
        "sess = tf.Session()\n",
        "sess.run(tf.global_variables_initializer())\n",
        "\n",
        "batch_size = 50\n",
        "n_epochs = 10\n",
        "\n",
        "## Training\n",
        "for epoch_i in range(n_epochs):\n",
        "    for batch_xs, batch_ys in ds.train.next_batch():\n",
        "        sess.run(optimizer, feed_dict={\n",
        "            X: batch_xs, Y: batch_ys\n",
        "        })\n",
        "    valid = ds.valid\n",
        "    print(sess.run(accuracy,\n",
        "                  feed_dict={\n",
        "                      X: valid.images,\n",
        "                      Y: valid.labels\n",
        "                  }))\n",
        "\n",
        "## Testing accuracy\n",
        "test = ds.test\n",
        "print(sess.run(accuracy,\n",
        "              feed_dict={\n",
        "                  X: test.images,\n",
        "                  Y: test.labels\n",
        "              }))"
      ],
      "execution_count": 23,
      "outputs": [
        {
          "output_type": "stream",
          "text": [
            "0.901\n",
            "0.9137143\n",
            "0.9168571\n",
            "0.92085713\n",
            "0.92214286\n",
            "0.92228574\n",
            "0.9244286\n",
            "0.9232857\n",
            "0.9252857\n",
            "0.924\n",
            "0.91814286\n"
          ],
          "name": "stdout"
        }
      ]
    },
    {
      "metadata": {
        "id": "TBlsTIjr_xeJ",
        "colab_type": "code",
        "colab": {
          "base_uri": "https://localhost:8080/",
          "height": 2091
        },
        "outputId": "044fbf27-151e-412c-d205-9c00973693b4"
      },
      "cell_type": "code",
      "source": [
        "g = tf.get_default_graph()\n",
        "[op.name for op in g.get_operations()]"
      ],
      "execution_count": 24,
      "outputs": [
        {
          "output_type": "execute_result",
          "data": {
            "text/plain": [
              "['Placeholder',\n",
              " 'Placeholder_1',\n",
              " 'layer1/W/Initializer/random_uniform/shape',\n",
              " 'layer1/W/Initializer/random_uniform/min',\n",
              " 'layer1/W/Initializer/random_uniform/max',\n",
              " 'layer1/W/Initializer/random_uniform/RandomUniform',\n",
              " 'layer1/W/Initializer/random_uniform/sub',\n",
              " 'layer1/W/Initializer/random_uniform/mul',\n",
              " 'layer1/W/Initializer/random_uniform',\n",
              " 'layer1/W',\n",
              " 'layer1/W/Assign',\n",
              " 'layer1/W/read',\n",
              " 'layer1/b/Initializer/Const',\n",
              " 'layer1/b',\n",
              " 'layer1/b/Assign',\n",
              " 'layer1/b/read',\n",
              " 'layer1/MatMul',\n",
              " 'layer1/h',\n",
              " 'layer1/Softmax',\n",
              " 'add/y',\n",
              " 'add',\n",
              " 'Log',\n",
              " 'mul',\n",
              " 'Const',\n",
              " 'Sum',\n",
              " 'Neg',\n",
              " 'gradients/Shape',\n",
              " 'gradients/grad_ys_0',\n",
              " 'gradients/Fill',\n",
              " 'gradients/Neg_grad/Neg',\n",
              " 'gradients/Sum_grad/Reshape/shape',\n",
              " 'gradients/Sum_grad/Reshape',\n",
              " 'gradients/Sum_grad/Shape',\n",
              " 'gradients/Sum_grad/Tile',\n",
              " 'gradients/mul_grad/Shape',\n",
              " 'gradients/mul_grad/Shape_1',\n",
              " 'gradients/mul_grad/BroadcastGradientArgs',\n",
              " 'gradients/mul_grad/Mul',\n",
              " 'gradients/mul_grad/Sum',\n",
              " 'gradients/mul_grad/Reshape',\n",
              " 'gradients/mul_grad/Mul_1',\n",
              " 'gradients/mul_grad/Sum_1',\n",
              " 'gradients/mul_grad/Reshape_1',\n",
              " 'gradients/mul_grad/tuple/group_deps',\n",
              " 'gradients/mul_grad/tuple/control_dependency',\n",
              " 'gradients/mul_grad/tuple/control_dependency_1',\n",
              " 'gradients/Log_grad/Reciprocal',\n",
              " 'gradients/Log_grad/mul',\n",
              " 'gradients/add_grad/Shape',\n",
              " 'gradients/add_grad/Shape_1',\n",
              " 'gradients/add_grad/BroadcastGradientArgs',\n",
              " 'gradients/add_grad/Sum',\n",
              " 'gradients/add_grad/Reshape',\n",
              " 'gradients/add_grad/Sum_1',\n",
              " 'gradients/add_grad/Reshape_1',\n",
              " 'gradients/add_grad/tuple/group_deps',\n",
              " 'gradients/add_grad/tuple/control_dependency',\n",
              " 'gradients/add_grad/tuple/control_dependency_1',\n",
              " 'gradients/layer1/Softmax_grad/mul',\n",
              " 'gradients/layer1/Softmax_grad/Sum/reduction_indices',\n",
              " 'gradients/layer1/Softmax_grad/Sum',\n",
              " 'gradients/layer1/Softmax_grad/Reshape/shape',\n",
              " 'gradients/layer1/Softmax_grad/Reshape',\n",
              " 'gradients/layer1/Softmax_grad/sub',\n",
              " 'gradients/layer1/Softmax_grad/mul_1',\n",
              " 'gradients/layer1/h_grad/BiasAddGrad',\n",
              " 'gradients/layer1/h_grad/tuple/group_deps',\n",
              " 'gradients/layer1/h_grad/tuple/control_dependency',\n",
              " 'gradients/layer1/h_grad/tuple/control_dependency_1',\n",
              " 'gradients/layer1/MatMul_grad/MatMul',\n",
              " 'gradients/layer1/MatMul_grad/MatMul_1',\n",
              " 'gradients/layer1/MatMul_grad/tuple/group_deps',\n",
              " 'gradients/layer1/MatMul_grad/tuple/control_dependency',\n",
              " 'gradients/layer1/MatMul_grad/tuple/control_dependency_1',\n",
              " 'beta1_power/initial_value',\n",
              " 'beta1_power',\n",
              " 'beta1_power/Assign',\n",
              " 'beta1_power/read',\n",
              " 'beta2_power/initial_value',\n",
              " 'beta2_power',\n",
              " 'beta2_power/Assign',\n",
              " 'beta2_power/read',\n",
              " 'layer1/W/Adam/Initializer/zeros/shape_as_tensor',\n",
              " 'layer1/W/Adam/Initializer/zeros/Const',\n",
              " 'layer1/W/Adam/Initializer/zeros',\n",
              " 'layer1/W/Adam',\n",
              " 'layer1/W/Adam/Assign',\n",
              " 'layer1/W/Adam/read',\n",
              " 'layer1/W/Adam_1/Initializer/zeros/shape_as_tensor',\n",
              " 'layer1/W/Adam_1/Initializer/zeros/Const',\n",
              " 'layer1/W/Adam_1/Initializer/zeros',\n",
              " 'layer1/W/Adam_1',\n",
              " 'layer1/W/Adam_1/Assign',\n",
              " 'layer1/W/Adam_1/read',\n",
              " 'layer1/b/Adam/Initializer/zeros',\n",
              " 'layer1/b/Adam',\n",
              " 'layer1/b/Adam/Assign',\n",
              " 'layer1/b/Adam/read',\n",
              " 'layer1/b/Adam_1/Initializer/zeros',\n",
              " 'layer1/b/Adam_1',\n",
              " 'layer1/b/Adam_1/Assign',\n",
              " 'layer1/b/Adam_1/read',\n",
              " 'Adam/learning_rate',\n",
              " 'Adam/beta1',\n",
              " 'Adam/beta2',\n",
              " 'Adam/epsilon',\n",
              " 'Adam/update_layer1/W/ApplyAdam',\n",
              " 'Adam/update_layer1/b/ApplyAdam',\n",
              " 'Adam/mul',\n",
              " 'Adam/Assign',\n",
              " 'Adam/mul_1',\n",
              " 'Adam/Assign_1',\n",
              " 'Adam',\n",
              " 'ArgMax/dimension',\n",
              " 'ArgMax',\n",
              " 'ArgMax_1/dimension',\n",
              " 'ArgMax_1',\n",
              " 'Equal',\n",
              " 'Cast',\n",
              " 'Const_1',\n",
              " 'Mean',\n",
              " 'init']"
            ]
          },
          "metadata": {
            "tags": []
          },
          "execution_count": 24
        }
      ]
    },
    {
      "metadata": {
        "id": "Ziv-ONPtBQJk",
        "colab_type": "code",
        "colab": {}
      },
      "cell_type": "code",
      "source": [
        "W = g.get_tensor_by_name('layer1/W:0')"
      ],
      "execution_count": 0,
      "outputs": []
    },
    {
      "metadata": {
        "id": "rmJwUEd3BcOU",
        "colab_type": "code",
        "colab": {}
      },
      "cell_type": "code",
      "source": [
        "W_arr = np.array(W.eval(session=sess))"
      ],
      "execution_count": 0,
      "outputs": []
    },
    {
      "metadata": {
        "id": "bW8a9VLkBfWZ",
        "colab_type": "code",
        "colab": {
          "base_uri": "https://localhost:8080/",
          "height": 34
        },
        "outputId": "6df9eb68-8a9f-455f-cb4b-03f23339056c"
      },
      "cell_type": "code",
      "source": [
        "print(W_arr.shape)"
      ],
      "execution_count": 27,
      "outputs": [
        {
          "output_type": "stream",
          "text": [
            "(784, 10)\n"
          ],
          "name": "stdout"
        }
      ]
    },
    {
      "metadata": {
        "id": "-wUHdxJfBkPa",
        "colab_type": "code",
        "colab": {
          "base_uri": "https://localhost:8080/",
          "height": 165
        },
        "outputId": "6e0b679c-fad4-4758-cbdd-f7543956e359"
      },
      "cell_type": "code",
      "source": [
        "fig, ax = plt.subplots(1, 10, figsize=(20, 3))\n",
        "for col_i in range(10):\n",
        "    ax[col_i].imshow(W_arr[:, col_i].reshape((28, 28)), cmap='coolwarm')\n"
      ],
      "execution_count": 28,
      "outputs": [
        {
          "output_type": "display_data",
          "data": {
            "image/png": "[encoded data removed]",
            "text/plain": [
              "<matplotlib.figure.Figure at 0x7ff1fd525c88>"
            ]
          },
          "metadata": {
            "tags": []
          }
        }
      ]
    },
    {
      "metadata": {
        "id": "hYVuS_4jHI8J",
        "colab_type": "code",
        "colab": {
          "base_uri": "https://localhost:8080/",
          "height": 34
        },
        "outputId": "0bcad8e2-bc56-4111-898f-4537757474ac"
      },
      "cell_type": "code",
      "source": [
        "reset_default_graph()\n",
        "\n",
        "g = tf.get_default_graph()\n",
        "print([op.name for op in g.get_operations()])"
      ],
      "execution_count": 29,
      "outputs": [
        {
          "output_type": "stream",
          "text": [
            "[]\n"
          ],
          "name": "stdout"
        }
      ]
    },
    {
      "metadata": {
        "id": "ldQ6FVLlanuA",
        "colab_type": "code",
        "colab": {
          "base_uri": "https://localhost:8080/",
          "height": 85
        },
        "outputId": "309d1d22-bfae-4c0f-aa09-5b2f85ae27e5"
      },
      "cell_type": "code",
      "source": [
        "mnist = datasets.MNIST(one_hot = True)\n",
        "\n",
        "n_inputs = 28 * 28\n",
        "n_outputs = 10\n",
        "\n",
        "X = tf.placeholder(tf.float32, [None, n_inputs])\n",
        "Y = tf.placeholder(tf.float32, [None, n_outputs])\n",
        "\n",
        "## For convlution NN we require 4D \n",
        "## N * H * W * Ch\n",
        "X_4d = tf.reshape(X, [-1, 28, 28, 1])\n",
        "\n",
        "filter_size = 5"
      ],
      "execution_count": 30,
      "outputs": [
        {
          "output_type": "stream",
          "text": [
            "Extracting MNIST_data/train-images-idx3-ubyte.gz\n",
            "Extracting MNIST_data/train-labels-idx1-ubyte.gz\n",
            "Extracting MNIST_data/t10k-images-idx3-ubyte.gz\n",
            "Extracting MNIST_data/t10k-labels-idx1-ubyte.gz\n"
          ],
          "name": "stdout"
        }
      ]
    },
    {
      "metadata": {
        "id": "dcr2HJJqfNUO",
        "colab_type": "code",
        "colab": {}
      },
      "cell_type": "code",
      "source": [
        "## Layer 1\n",
        "\n",
        "n_filters_in = 1 # One channel as input\n",
        "n_filters_out = 32 # 32 filters (channels of information as output)\n",
        "\n",
        "W_1 = tf.get_variable(\n",
        "    name='W',\n",
        "    # shape = [Height, width, no of input channels, no of output channels]\n",
        "    shape=[filter_size, filter_size, n_filters_in, n_filters_out],\n",
        "    initializer=tf.random_normal_initializer())\n",
        "\n",
        "## Input image will be down-sized by 2 when we set strides as 2 i.e., 1,2,2,1\n",
        "\n",
        "## bias is size of no of output channels since we will apply bias after\n",
        "## the convolution is performed.\n",
        "b_1 = tf.get_variable(name='b',\n",
        "                     shape=[n_filters_out],\n",
        "                     initializer=tf.constant_initializer())\n",
        "\n",
        "h_1 = tf.nn.relu(\n",
        "    tf.nn.bias_add(\n",
        "        tf.nn.conv2d(\n",
        "            input=X_4d,\n",
        "            filter=W_1,\n",
        "            strides=[1, 2, 2, 1],\n",
        "            padding='SAME'),\n",
        "    b_1))"
      ],
      "execution_count": 0,
      "outputs": []
    },
    {
      "metadata": {
        "id": "3105pd_mfOCe",
        "colab_type": "code",
        "colab": {}
      },
      "cell_type": "code",
      "source": [
        "## Layer 2\n",
        "\n",
        "n_filters_in = 32 # Output of previous layer\n",
        "n_filters_out = 64\n",
        "\n",
        "W_2 = tf.get_variable(\n",
        "    name='W2',\n",
        "    # shape = [Height, width, no of input channels, no of output channels]\n",
        "    shape=[filter_size, filter_size, n_filters_in, n_filters_out],\n",
        "    initializer=tf.random_normal_initializer())\n",
        "\n",
        "## Input image will be down-sized by 2 when we set strides as 2 i.e., 1,2,2,1\n",
        "\n",
        "## bias is size of no of output channels since we will apply bias after\n",
        "## the convolution is performed.\n",
        "b_2 = tf.get_variable(name='b2',\n",
        "                     shape=[n_filters_out],\n",
        "                     initializer=tf.constant_initializer())\n",
        "\n",
        "h_2 = tf.nn.relu(\n",
        "    tf.nn.bias_add(\n",
        "        tf.nn.conv2d(\n",
        "            input=h_1,\n",
        "            filter=W_2,\n",
        "            strides=[1, 2, 2, 1],\n",
        "            padding='SAME'),\n",
        "    b_2))"
      ],
      "execution_count": 0,
      "outputs": []
    },
    {
      "metadata": {
        "id": "Ugwi6sFjfwun",
        "colab_type": "code",
        "colab": {}
      },
      "cell_type": "code",
      "source": [
        "## Fully Connected Layer \n",
        "\n",
        "## Convert 4d to 2d to connect to the FC layer\n",
        "\n",
        "h_2_flat = tf.reshape(h_2, [-1, 7 * 7 * n_filters_out])\n",
        "\n",
        "h_3, W = utils.linear(h_2_flat, 128, activation=tf.nn.relu, name='fc_1')\n",
        "Y_pred, W = utils.linear(h_3, n_outputs, activation=tf.nn.softmax, name='fc_2')"
      ],
      "execution_count": 0,
      "outputs": []
    },
    {
      "metadata": {
        "id": "kKnBJwnNKcIi",
        "colab_type": "code",
        "colab": {}
      },
      "cell_type": "code",
      "source": [
        ""
      ],
      "execution_count": 0,
      "outputs": []
    }
  ]
}