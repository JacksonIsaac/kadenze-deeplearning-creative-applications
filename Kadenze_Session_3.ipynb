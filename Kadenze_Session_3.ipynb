{
  "nbformat": 4,
  "nbformat_minor": 0,
  "metadata": {
    "colab": {
      "name": "Kadenze-Session-3.ipynb",
      "version": "0.3.2",
      "provenance": [],
      "collapsed_sections": [],
      "include_colab_link": true
    },
    "kernelspec": {
      "name": "python3",
      "display_name": "Python 3"
    },
    "accelerator": "GPU"
  },
  "cells": [
    {
      "cell_type": "markdown",
      "metadata": {
        "id": "view-in-github",
        "colab_type": "text"
      },
      "source": [
        "[View in Colaboratory](https://colab.research.google.com/github/JacksonIsaac/kadenze-deeplearning-creative-applications/blob/master/Kadenze_Session_3.ipynb)"
      ]
    },
    {
      "metadata": {
        "id": "sOqj_LhRwcgT",
        "colab_type": "code",
        "colab": {}
      },
      "cell_type": "code",
      "source": [
        "%matplotlib inline\n",
        "#%pylab\n",
        "\n",
        "import numpy as np\n",
        "import tensorflow as tf\n",
        "import matplotlib.pyplot as plt\n",
        "import matplotlib.colors as colors\n",
        "import matplotlib.cm as cmx\n",
        "\n",
        "plt.style.use('ggplot')"
      ],
      "execution_count": 0,
      "outputs": []
    },
    {
      "metadata": {
        "id": "DZ4EIY-C6vB-",
        "colab_type": "code",
        "colab": {
          "base_uri": "https://localhost:8080/",
          "height": 51
        },
        "outputId": "f55c7240-efbd-44f8-dc6b-ed44be361680"
      },
      "cell_type": "code",
      "source": [
        "!git clone https://github.com/JacksonIsaac/CADL.git\n",
        "!mv CADL/session-3/* ."
      ],
      "execution_count": 2,
      "outputs": [
        {
          "output_type": "stream",
          "text": [
            "fatal: destination path 'CADL' already exists and is not an empty directory.\n",
            "mv: cannot stat 'CADL/session-3/*': No such file or directory\n"
          ],
          "name": "stdout"
        }
      ]
    },
    {
      "metadata": {
        "id": "NjKlqvlN8lvp",
        "colab_type": "code",
        "colab": {}
      },
      "cell_type": "code",
      "source": [
        "from libs.utils import montage\n",
        "from libs import gif\n",
        "from libs.datasets import MNIST"
      ],
      "execution_count": 0,
      "outputs": []
    },
    {
      "metadata": {
        "id": "vFjONRiY9WsE",
        "colab_type": "code",
        "colab": {
          "base_uri": "https://localhost:8080/",
          "height": 411
        },
        "outputId": "2eedb940-45d7-4b99-cc4b-708788642989"
      },
      "cell_type": "code",
      "source": [
        "ds = MNIST()"
      ],
      "execution_count": 4,
      "outputs": [
        {
          "output_type": "stream",
          "text": [
            "WARNING:tensorflow:From /content/libs/datasets.py:18: read_data_sets (from tensorflow.contrib.learn.python.learn.datasets.mnist) is deprecated and will be removed in a future version.\n",
            "Instructions for updating:\n",
            "Please use alternatives such as official/mnist/dataset.py from tensorflow/models.\n",
            "WARNING:tensorflow:From /usr/local/lib/python3.6/dist-packages/tensorflow/contrib/learn/python/learn/datasets/mnist.py:260: maybe_download (from tensorflow.contrib.learn.python.learn.datasets.base) is deprecated and will be removed in a future version.\n",
            "Instructions for updating:\n",
            "Please write your own downloading logic.\n",
            "WARNING:tensorflow:From /usr/local/lib/python3.6/dist-packages/tensorflow/contrib/learn/python/learn/datasets/mnist.py:262: extract_images (from tensorflow.contrib.learn.python.learn.datasets.mnist) is deprecated and will be removed in a future version.\n",
            "Instructions for updating:\n",
            "Please use tf.data to implement this functionality.\n",
            "Extracting MNIST_data/train-images-idx3-ubyte.gz\n",
            "WARNING:tensorflow:From /usr/local/lib/python3.6/dist-packages/tensorflow/contrib/learn/python/learn/datasets/mnist.py:267: extract_labels (from tensorflow.contrib.learn.python.learn.datasets.mnist) is deprecated and will be removed in a future version.\n",
            "Instructions for updating:\n",
            "Please use tf.data to implement this functionality.\n",
            "Extracting MNIST_data/train-labels-idx1-ubyte.gz\n",
            "WARNING:tensorflow:From /usr/local/lib/python3.6/dist-packages/tensorflow/contrib/learn/python/learn/datasets/mnist.py:110: dense_to_one_hot (from tensorflow.contrib.learn.python.learn.datasets.mnist) is deprecated and will be removed in a future version.\n",
            "Instructions for updating:\n",
            "Please use tf.one_hot on tensors.\n",
            "Extracting MNIST_data/t10k-images-idx3-ubyte.gz\n",
            "Extracting MNIST_data/t10k-labels-idx1-ubyte.gz\n",
            "WARNING:tensorflow:From /usr/local/lib/python3.6/dist-packages/tensorflow/contrib/learn/python/learn/datasets/mnist.py:290: DataSet.__init__ (from tensorflow.contrib.learn.python.learn.datasets.mnist) is deprecated and will be removed in a future version.\n",
            "Instructions for updating:\n",
            "Please use alternatives such as official/mnist/dataset.py from tensorflow/models.\n"
          ],
          "name": "stdout"
        }
      ]
    },
    {
      "metadata": {
        "id": "TWCZzDd9_mC2",
        "colab_type": "code",
        "colab": {
          "base_uri": "https://localhost:8080/",
          "height": 34
        },
        "outputId": "22fd8741-dfe9-4dd1-c656-3be3e0b8e47d"
      },
      "cell_type": "code",
      "source": [
        "ds.X.shape"
      ],
      "execution_count": 5,
      "outputs": [
        {
          "output_type": "execute_result",
          "data": {
            "text/plain": [
              "(70000, 784)"
            ]
          },
          "metadata": {
            "tags": []
          },
          "execution_count": 5
        }
      ]
    },
    {
      "metadata": {
        "id": "OmNW7SJjAAlT",
        "colab_type": "code",
        "colab": {
          "base_uri": "https://localhost:8080/",
          "height": 282
        },
        "outputId": "c7bd7f5c-3d9d-4e1e-907d-b32f8c9f29ff"
      },
      "cell_type": "code",
      "source": [
        "plt.imshow(ds.X[0].reshape((28,28)))"
      ],
      "execution_count": 6,
      "outputs": [
        {
          "output_type": "execute_result",
          "data": {
            "text/plain": [
              "<matplotlib.image.AxesImage at 0x7f905e0a2f60>"
            ]
          },
          "metadata": {
            "tags": []
          },
          "execution_count": 6
        },
        {
          "output_type": "display_data",
          "data": {
            "image/png": "[encoded data removed]",
            "text/plain": [
              "<matplotlib.figure.Figure at 0x7f905e8e54a8>"
            ]
          },
          "metadata": {
            "tags": []
          }
        }
      ]
    },
    {
      "metadata": {
        "id": "dhXtPOxWAJVi",
        "colab_type": "code",
        "colab": {
          "base_uri": "https://localhost:8080/",
          "height": 286
        },
        "outputId": "6569cc68-5355-4606-a1ee-f9a14df728df"
      },
      "cell_type": "code",
      "source": [
        "imgs = ds.X[:1000].reshape((-1, 28, 28))\n",
        "plt.imshow(montage(imgs), cmap='gray')"
      ],
      "execution_count": 7,
      "outputs": [
        {
          "output_type": "execute_result",
          "data": {
            "text/plain": [
              "<matplotlib.image.AxesImage at 0x7f905b7adcc0>"
            ]
          },
          "metadata": {
            "tags": []
          },
          "execution_count": 7
        },
        {
          "output_type": "display_data",
          "data": {
            "image/png": "[encoded data removed]",
            "text/plain": [
              "<matplotlib.figure.Figure at 0x7f90ae5c19e8>"
            ]
          },
          "metadata": {
            "tags": []
          }
        }
      ]
    },
    {
      "metadata": {
        "id": "Hb9EXOc_AZ_p",
        "colab_type": "code",
        "colab": {
          "base_uri": "https://localhost:8080/",
          "height": 282
        },
        "outputId": "1d4dd4b1-bae6-4e86-de4d-9efee6c86b0a"
      },
      "cell_type": "code",
      "source": [
        "mean_img = np.mean(ds.X, axis=0)\n",
        "plt.figure()\n",
        "plt.imshow(mean_img.reshape((28, 28)), cmap='gray')"
      ],
      "execution_count": 8,
      "outputs": [
        {
          "output_type": "execute_result",
          "data": {
            "text/plain": [
              "<matplotlib.image.AxesImage at 0x7f905b70ed68>"
            ]
          },
          "metadata": {
            "tags": []
          },
          "execution_count": 8
        },
        {
          "output_type": "display_data",
          "data": {
            "image/png": "[encoded data removed]",
            "text/plain": [
              "<matplotlib.figure.Figure at 0x7f905b78ccf8>"
            ]
          },
          "metadata": {
            "tags": []
          }
        }
      ]
    },
    {
      "metadata": {
        "id": "20T8wG2NAmhg",
        "colab_type": "code",
        "colab": {
          "base_uri": "https://localhost:8080/",
          "height": 282
        },
        "outputId": "775b2057-6182-42c0-e0d3-bbe80c57096e"
      },
      "cell_type": "code",
      "source": [
        "std_img = np.std(ds.X, axis=0)\n",
        "plt.figure()\n",
        "plt.imshow(std_img.reshape((28, 28)), cmap='gray')"
      ],
      "execution_count": 9,
      "outputs": [
        {
          "output_type": "execute_result",
          "data": {
            "text/plain": [
              "<matplotlib.image.AxesImage at 0x7f905b678358>"
            ]
          },
          "metadata": {
            "tags": []
          },
          "execution_count": 9
        },
        {
          "output_type": "display_data",
          "data": {
            "image/png": "[encoded data removed]",
            "text/plain": [
              "<matplotlib.figure.Figure at 0x7f905e923278>"
            ]
          },
          "metadata": {
            "tags": []
          }
        }
      ]
    },
    {
      "metadata": {
        "id": "UKpB3jNjsMS_",
        "colab_type": "code",
        "colab": {}
      },
      "cell_type": "code",
      "source": [
        "dimensions = [512, 256, 128, 64]"
      ],
      "execution_count": 0,
      "outputs": []
    },
    {
      "metadata": {
        "id": "q9sERE4LsxTs",
        "colab_type": "code",
        "colab": {
          "base_uri": "https://localhost:8080/",
          "height": 34
        },
        "outputId": "276debfc-2506-40fc-a880-7402acf03369"
      },
      "cell_type": "code",
      "source": [
        "n_features = ds.X.shape[1]\n",
        "\n",
        "## [None, n] means that it can have any no of rows m\n",
        "X = tf.placeholder(tf.float32, [None, n_features])\n",
        "\n",
        "current_input = X\n",
        "n_input = n_features\n",
        "\n",
        "\n",
        "## For decoder\n",
        "Ws = []\n",
        "\n",
        "for layer_i, n_output in enumerate(dimensions):\n",
        "    with tf.variable_scope('encoder/layer/{}'.format(layer_i)):\n",
        "        \n",
        "        W = tf.get_variable(\n",
        "            name = 'W',\n",
        "            shape = [n_input, n_output],\n",
        "            initializer = tf.random_normal_initializer(mean=0.0, stddev=0.02)\n",
        "        )\n",
        "        \n",
        "        h = tf.matmul(current_input, W)\n",
        "        \n",
        "        current_input = tf.nn.relu(h)\n",
        "        \n",
        "        Ws.append(W)\n",
        "        \n",
        "        n_input = n_output\n",
        "        \n",
        "Ws = Ws[::-1]\n",
        "\n",
        "dimensions = dimensions[::-1][1:] + [ds.X.shape[1]]\n",
        "\n",
        "print(dimensions)\n",
        "\n",
        "## Encoder\n",
        "\n",
        "for layer_i, n_output in enumerate(dimensions):\n",
        "    with tf.variable_scope('decoder/layer/{}'.format(layer_i)):\n",
        "        \n",
        "        W = tf.transpose(Ws[layer_i])\n",
        "        \n",
        "        h = tf.matmul(current_input, W)\n",
        "        \n",
        "        current_input = tf.nn.relu(h)\n",
        "        \n",
        "        n_input = n_output"
      ],
      "execution_count": 11,
      "outputs": [
        {
          "output_type": "stream",
          "text": [
            "[128, 256, 512, 784]\n"
          ],
          "name": "stdout"
        }
      ]
    },
    {
      "metadata": {
        "id": "YjjkfUTXagaq",
        "colab_type": "code",
        "colab": {
          "base_uri": "https://localhost:8080/",
          "height": 34
        },
        "outputId": "5d238413-bc06-4a57-fbc0-ffd593964211"
      },
      "cell_type": "code",
      "source": [
        "Y = current_input\n",
        "\n",
        "cost = tf.reduce_mean(tf.squared_difference(X, Y), 1)\n",
        "\n",
        "print(cost.get_shape())"
      ],
      "execution_count": 12,
      "outputs": [
        {
          "output_type": "stream",
          "text": [
            "(?,)\n"
          ],
          "name": "stdout"
        }
      ]
    },
    {
      "metadata": {
        "id": "Kq27ZgCnpV1N",
        "colab_type": "code",
        "colab": {
          "base_uri": "https://localhost:8080/",
          "height": 3121
        },
        "outputId": "34e9a8c0-b738-46ae-e9a2-1392554d884c"
      },
      "cell_type": "code",
      "source": [
        "cost = tf.reduce_mean(cost)\n",
        "\n",
        "learning_rate = 0.001\n",
        "optimizer = tf.train.AdamOptimizer(learning_rate).minimize(cost)\n",
        "\n",
        "sess = tf.Session()\n",
        "sess.run(tf.initialize_all_variables())\n",
        "\n",
        "batch_size = 100\n",
        "n_epochs = 100\n",
        "\n",
        "examples = ds.X[:100]\n",
        "\n",
        "imgs = []\n",
        "\n",
        "fig, ax = plt.subplots(1,1)\n",
        "\n",
        "for epoch_i in range(n_epochs):\n",
        "    for batch_X, _ in ds.train.next_batch():\n",
        "        sess.run(optimizer, feed_dict={X: batch_X - mean_img})\n",
        "    recon = sess.run(Y, feed_dict={X: examples - mean_img})\n",
        "    recon = np.clip((recon + mean_img).reshape((-1, 28,28)), 0, 255)\n",
        "    \n",
        "    img_i = montage(recon).astype(np.uint8)\n",
        "    imgs.append(img_i)\n",
        "    \n",
        "    ax.imshow(img_i, cmap='gray')\n",
        "    \n",
        "    fig.canvas.draw()\n",
        "    \n",
        "    print(epoch_i, sess.run(cost, feed_dict={X: batch_X - mean_img}))\n",
        "    \n",
        "gif.build_gif(imgs, saveto='ae.gif', cmap='gray')"
      ],
      "execution_count": 14,
      "outputs": [
        {
          "output_type": "stream",
          "text": [
            "0 0.04279111\n",
            "1 0.03740512\n",
            "2 0.034859464\n",
            "3 0.03384537\n",
            "4 0.032185882\n",
            "5 0.03110287\n",
            "6 0.030172765\n",
            "7 0.030269137\n",
            "8 0.02976014\n",
            "9 0.02953837\n",
            "10 0.027878974\n",
            "11 0.028379247\n",
            "12 0.028334288\n",
            "13 0.02760704\n",
            "14 0.028029695\n",
            "15 0.027584836\n",
            "16 0.027198365\n",
            "17 0.026143175\n",
            "18 0.027103595\n",
            "19 0.027237976\n",
            "20 0.02783323\n",
            "21 0.026365312\n",
            "22 0.027190402\n",
            "23 0.026908167\n",
            "24 0.026470141\n",
            "25 0.026990173\n",
            "26 0.02633938\n",
            "27 0.026179476\n",
            "28 0.026816728\n",
            "29 0.025766416\n",
            "30 0.025012203\n",
            "31 0.02590006\n",
            "32 0.026297286\n",
            "33 0.026052928\n",
            "34 0.02610659\n",
            "35 0.025648886\n",
            "36 0.026407972\n",
            "37 0.0264386\n",
            "38 0.025899963\n",
            "39 0.02558515\n",
            "40 0.025314722\n",
            "41 0.02555488\n",
            "42 0.02514942\n",
            "43 0.025502607\n",
            "44 0.025744107\n",
            "45 0.025095165\n",
            "46 0.02541878\n",
            "47 0.026013853\n",
            "48 0.025695637\n",
            "49 0.02575802\n",
            "50 0.024589958\n",
            "51 0.02509557\n",
            "52 0.024353208\n",
            "53 0.026049554\n",
            "54 0.02491096\n",
            "55 0.025339603\n",
            "56 0.025246069\n",
            "57 0.025372481\n",
            "58 0.024775743\n",
            "59 0.024903137\n",
            "60 0.024343446\n",
            "61 0.025354264\n",
            "62 0.025346264\n",
            "63 0.024499504\n",
            "64 0.025234623\n",
            "65 0.024786513\n",
            "66 0.02531457\n",
            "67 0.025285415\n",
            "68 0.024282014\n",
            "69 0.024932396\n",
            "70 0.02494086\n",
            "71 0.024618449\n",
            "72 0.02420166\n",
            "73 0.025521744\n",
            "74 0.024680791\n",
            "75 0.025208766\n",
            "76 0.024802685\n",
            "77 0.02502064\n",
            "78 0.02586485\n",
            "79 0.025169628\n",
            "80 0.023992442\n",
            "81 0.025657373\n",
            "82 0.025285799\n",
            "83 0.02444658\n",
            "84 0.023981009\n",
            "85 0.024428654\n",
            "86 0.024584133\n",
            "87 0.025207749\n",
            "88 0.024536014\n",
            "89 0.02503458\n",
            "90 0.023664208\n",
            "91 0.024023173\n",
            "92 0.024272282\n",
            "93 0.024504654\n",
            "94 0.025366766\n",
            "95 0.024144545\n",
            "96 0.024219556\n",
            "97 0.024054263\n",
            "98 0.025097193\n",
            "99 0.025323145\n"
          ],
          "name": "stdout"
        },
        {
          "output_type": "stream",
          "text": [
            "/usr/local/lib/python3.6/dist-packages/matplotlib/animation.py:1218: UserWarning: MovieWriter imagemagick unavailable\n",
            "  warnings.warn(\"MovieWriter %s unavailable\" % writer)\n"
          ],
          "name": "stderr"
        },
        {
          "output_type": "error",
          "ename": "ValueError",
          "evalue": "ignored",
          "traceback": [
            "\u001b[0;31m---------------------------------------------------------------------------\u001b[0m",
            "\u001b[0;31mValueError\u001b[0m                                Traceback (most recent call last)",
            "\u001b[0;32m<ipython-input-14-22c8bf853674>\u001b[0m in \u001b[0;36m<module>\u001b[0;34m()\u001b[0m\n\u001b[1;32m     31\u001b[0m     \u001b[0mprint\u001b[0m\u001b[0;34m(\u001b[0m\u001b[0mepoch_i\u001b[0m\u001b[0;34m,\u001b[0m \u001b[0msess\u001b[0m\u001b[0;34m.\u001b[0m\u001b[0mrun\u001b[0m\u001b[0;34m(\u001b[0m\u001b[0mcost\u001b[0m\u001b[0;34m,\u001b[0m \u001b[0mfeed_dict\u001b[0m\u001b[0;34m=\u001b[0m\u001b[0;34m{\u001b[0m\u001b[0mX\u001b[0m\u001b[0;34m:\u001b[0m \u001b[0mbatch_X\u001b[0m \u001b[0;34m-\u001b[0m \u001b[0mmean_img\u001b[0m\u001b[0;34m}\u001b[0m\u001b[0;34m)\u001b[0m\u001b[0;34m)\u001b[0m\u001b[0;34m\u001b[0m\u001b[0m\n\u001b[1;32m     32\u001b[0m \u001b[0;34m\u001b[0m\u001b[0m\n\u001b[0;32m---> 33\u001b[0;31m \u001b[0mgif\u001b[0m\u001b[0;34m.\u001b[0m\u001b[0mbuild_gif\u001b[0m\u001b[0;34m(\u001b[0m\u001b[0mimgs\u001b[0m\u001b[0;34m,\u001b[0m \u001b[0msaveto\u001b[0m\u001b[0;34m=\u001b[0m\u001b[0;34m'ae.gif'\u001b[0m\u001b[0;34m,\u001b[0m \u001b[0mcmap\u001b[0m\u001b[0;34m=\u001b[0m\u001b[0;34m'gray'\u001b[0m\u001b[0;34m)\u001b[0m\u001b[0;34m\u001b[0m\u001b[0m\n\u001b[0m",
            "\u001b[0;32m/content/libs/gif.py\u001b[0m in \u001b[0;36mbuild_gif\u001b[0;34m(imgs, interval, dpi, save_gif, saveto, show_gif, cmap)\u001b[0m\n\u001b[1;32m     57\u001b[0m \u001b[0;34m\u001b[0m\u001b[0m\n\u001b[1;32m     58\u001b[0m     \u001b[0;32mif\u001b[0m \u001b[0msave_gif\u001b[0m\u001b[0;34m:\u001b[0m\u001b[0;34m\u001b[0m\u001b[0m\n\u001b[0;32m---> 59\u001b[0;31m         \u001b[0mani\u001b[0m\u001b[0;34m.\u001b[0m\u001b[0msave\u001b[0m\u001b[0;34m(\u001b[0m\u001b[0msaveto\u001b[0m\u001b[0;34m,\u001b[0m \u001b[0mwriter\u001b[0m\u001b[0;34m=\u001b[0m\u001b[0;34m'imagemagick'\u001b[0m\u001b[0;34m,\u001b[0m \u001b[0mdpi\u001b[0m\u001b[0;34m=\u001b[0m\u001b[0mdpi\u001b[0m\u001b[0;34m)\u001b[0m\u001b[0;34m\u001b[0m\u001b[0m\n\u001b[0m\u001b[1;32m     60\u001b[0m \u001b[0;34m\u001b[0m\u001b[0m\n\u001b[1;32m     61\u001b[0m     \u001b[0;32mif\u001b[0m \u001b[0mshow_gif\u001b[0m\u001b[0;34m:\u001b[0m\u001b[0;34m\u001b[0m\u001b[0m\n",
            "\u001b[0;32m/usr/local/lib/python3.6/dist-packages/matplotlib/animation.py\u001b[0m in \u001b[0;36msave\u001b[0;34m(self, filename, writer, fps, dpi, codec, bitrate, extra_args, metadata, extra_anim, savefig_kwargs)\u001b[0m\n\u001b[1;32m   1249\u001b[0m                                level='helpful')\n\u001b[1;32m   1250\u001b[0m                 \u001b[0mrcParams\u001b[0m\u001b[0;34m[\u001b[0m\u001b[0;34m'savefig.bbox'\u001b[0m\u001b[0;34m]\u001b[0m \u001b[0;34m=\u001b[0m \u001b[0;32mNone\u001b[0m\u001b[0;34m\u001b[0m\u001b[0m\n\u001b[0;32m-> 1251\u001b[0;31m             \u001b[0;32mwith\u001b[0m \u001b[0mwriter\u001b[0m\u001b[0;34m.\u001b[0m\u001b[0msaving\u001b[0m\u001b[0;34m(\u001b[0m\u001b[0mself\u001b[0m\u001b[0;34m.\u001b[0m\u001b[0m_fig\u001b[0m\u001b[0;34m,\u001b[0m \u001b[0mfilename\u001b[0m\u001b[0;34m,\u001b[0m \u001b[0mdpi\u001b[0m\u001b[0;34m)\u001b[0m\u001b[0;34m:\u001b[0m\u001b[0;34m\u001b[0m\u001b[0m\n\u001b[0m\u001b[1;32m   1252\u001b[0m                 \u001b[0;32mfor\u001b[0m \u001b[0manim\u001b[0m \u001b[0;32min\u001b[0m \u001b[0mall_anim\u001b[0m\u001b[0;34m:\u001b[0m\u001b[0;34m\u001b[0m\u001b[0m\n\u001b[1;32m   1253\u001b[0m                     \u001b[0;31m# Clear the initial frame\u001b[0m\u001b[0;34m\u001b[0m\u001b[0;34m\u001b[0m\u001b[0m\n",
            "\u001b[0;32m/usr/lib/python3.6/contextlib.py\u001b[0m in \u001b[0;36m__enter__\u001b[0;34m(self)\u001b[0m\n\u001b[1;32m     79\u001b[0m     \u001b[0;32mdef\u001b[0m \u001b[0m__enter__\u001b[0m\u001b[0;34m(\u001b[0m\u001b[0mself\u001b[0m\u001b[0;34m)\u001b[0m\u001b[0;34m:\u001b[0m\u001b[0;34m\u001b[0m\u001b[0m\n\u001b[1;32m     80\u001b[0m         \u001b[0;32mtry\u001b[0m\u001b[0;34m:\u001b[0m\u001b[0;34m\u001b[0m\u001b[0m\n\u001b[0;32m---> 81\u001b[0;31m             \u001b[0;32mreturn\u001b[0m \u001b[0mnext\u001b[0m\u001b[0;34m(\u001b[0m\u001b[0mself\u001b[0m\u001b[0;34m.\u001b[0m\u001b[0mgen\u001b[0m\u001b[0;34m)\u001b[0m\u001b[0;34m\u001b[0m\u001b[0m\n\u001b[0m\u001b[1;32m     82\u001b[0m         \u001b[0;32mexcept\u001b[0m \u001b[0mStopIteration\u001b[0m\u001b[0;34m:\u001b[0m\u001b[0;34m\u001b[0m\u001b[0m\n\u001b[1;32m     83\u001b[0m             \u001b[0;32mraise\u001b[0m \u001b[0mRuntimeError\u001b[0m\u001b[0;34m(\u001b[0m\u001b[0;34m\"generator didn't yield\"\u001b[0m\u001b[0;34m)\u001b[0m \u001b[0;32mfrom\u001b[0m \u001b[0;32mNone\u001b[0m\u001b[0;34m\u001b[0m\u001b[0m\n",
            "\u001b[0;32m/usr/local/lib/python3.6/dist-packages/matplotlib/animation.py\u001b[0m in \u001b[0;36msaving\u001b[0;34m(self, fig, outfile, dpi, *args, **kwargs)\u001b[0m\n\u001b[1;32m    231\u001b[0m         '''\n\u001b[1;32m    232\u001b[0m         \u001b[0;31m# This particular sequence is what contextlib.contextmanager wants\u001b[0m\u001b[0;34m\u001b[0m\u001b[0;34m\u001b[0m\u001b[0m\n\u001b[0;32m--> 233\u001b[0;31m         \u001b[0mself\u001b[0m\u001b[0;34m.\u001b[0m\u001b[0msetup\u001b[0m\u001b[0;34m(\u001b[0m\u001b[0mfig\u001b[0m\u001b[0;34m,\u001b[0m \u001b[0moutfile\u001b[0m\u001b[0;34m,\u001b[0m \u001b[0mdpi\u001b[0m\u001b[0;34m,\u001b[0m \u001b[0;34m*\u001b[0m\u001b[0margs\u001b[0m\u001b[0;34m,\u001b[0m \u001b[0;34m**\u001b[0m\u001b[0mkwargs\u001b[0m\u001b[0;34m)\u001b[0m\u001b[0;34m\u001b[0m\u001b[0m\n\u001b[0m\u001b[1;32m    234\u001b[0m         \u001b[0;32mtry\u001b[0m\u001b[0;34m:\u001b[0m\u001b[0;34m\u001b[0m\u001b[0m\n\u001b[1;32m    235\u001b[0m             \u001b[0;32myield\u001b[0m \u001b[0mself\u001b[0m\u001b[0;34m\u001b[0m\u001b[0m\n",
            "\u001b[0;32m/usr/local/lib/python3.6/dist-packages/matplotlib/animation.py\u001b[0m in \u001b[0;36msetup\u001b[0;34m(self, fig, outfile, dpi, frame_dir)\u001b[0m\n\u001b[1;32m    939\u001b[0m     \u001b[0;32mdef\u001b[0m \u001b[0msetup\u001b[0m\u001b[0;34m(\u001b[0m\u001b[0mself\u001b[0m\u001b[0;34m,\u001b[0m \u001b[0mfig\u001b[0m\u001b[0;34m,\u001b[0m \u001b[0moutfile\u001b[0m\u001b[0;34m,\u001b[0m \u001b[0mdpi\u001b[0m\u001b[0;34m,\u001b[0m \u001b[0mframe_dir\u001b[0m\u001b[0;34m=\u001b[0m\u001b[0;32mNone\u001b[0m\u001b[0;34m)\u001b[0m\u001b[0;34m:\u001b[0m\u001b[0;34m\u001b[0m\u001b[0m\n\u001b[1;32m    940\u001b[0m         \u001b[0;32mif\u001b[0m \u001b[0mos\u001b[0m\u001b[0;34m.\u001b[0m\u001b[0mpath\u001b[0m\u001b[0;34m.\u001b[0m\u001b[0msplitext\u001b[0m\u001b[0;34m(\u001b[0m\u001b[0moutfile\u001b[0m\u001b[0;34m)\u001b[0m\u001b[0;34m[\u001b[0m\u001b[0;34m-\u001b[0m\u001b[0;36m1\u001b[0m\u001b[0;34m]\u001b[0m \u001b[0;32mnot\u001b[0m \u001b[0;32min\u001b[0m \u001b[0;34m[\u001b[0m\u001b[0;34m'.html'\u001b[0m\u001b[0;34m,\u001b[0m \u001b[0;34m'.htm'\u001b[0m\u001b[0;34m]\u001b[0m\u001b[0;34m:\u001b[0m\u001b[0;34m\u001b[0m\u001b[0m\n\u001b[0;32m--> 941\u001b[0;31m             \u001b[0;32mraise\u001b[0m \u001b[0mValueError\u001b[0m\u001b[0;34m(\u001b[0m\u001b[0;34m\"outfile must be *.htm or *.html\"\u001b[0m\u001b[0;34m)\u001b[0m\u001b[0;34m\u001b[0m\u001b[0m\n\u001b[0m\u001b[1;32m    942\u001b[0m \u001b[0;34m\u001b[0m\u001b[0m\n\u001b[1;32m    943\u001b[0m         \u001b[0;32mif\u001b[0m \u001b[0;32mnot\u001b[0m \u001b[0mself\u001b[0m\u001b[0;34m.\u001b[0m\u001b[0membed_frames\u001b[0m\u001b[0;34m:\u001b[0m\u001b[0;34m\u001b[0m\u001b[0m\n",
            "\u001b[0;31mValueError\u001b[0m: outfile must be *.htm or *.html"
          ]
        },
        {
          "output_type": "display_data",
          "data": {
            "image/png": "[encoded data removed]",
            "text/plain": [
              "<matplotlib.figure.Figure at 0x7f905b69b780>"
            ]
          },
          "metadata": {
            "tags": []
          }
        },
        {
          "output_type": "display_data",
          "data": {
            "image/png": "[encoded data removed]",
            "text/plain": [
              "<matplotlib.figure.Figure at 0x7f902e626a58>"
            ]
          },
          "metadata": {
            "tags": []
          }
        }
      ]
    },
    {
      "metadata": {
        "id": "EFvT-1zxrOsC",
        "colab_type": "code",
        "colab": {
          "resources": {
            "http://localhost:8080/ae.gif?0.8948893959166272": {
              "data": "CjwhRE9DVFlQRSBodG1sPgo8aHRtbCBsYW5nPWVuPgogIDxtZXRhIGNoYXJzZXQ9dXRmLTg+CiAgPG1ldGEgbmFtZT12aWV3cG9ydCBjb250ZW50PSJpbml0aWFsLXNjYWxlPTEsIG1pbmltdW0tc2NhbGU9MSwgd2lkdGg9ZGV2aWNlLXdpZHRoIj4KICA8dGl0bGU+RXJyb3IgNDA0IChOb3QgRm91bmQpISExPC90aXRsZT4KICA8c3R5bGU+CiAgICAqe21hcmdpbjowO3BhZGRpbmc6MH1odG1sLGNvZGV7Zm9udDoxNXB4LzIycHggYXJpYWwsc2Fucy1zZXJpZn1odG1se2JhY2tncm91bmQ6I2ZmZjtjb2xvcjojMjIyO3BhZGRpbmc6MTVweH1ib2R5e21hcmdpbjo3JSBhdXRvIDA7bWF4LXdpZHRoOjM5MHB4O21pbi1oZWlnaHQ6MTgwcHg7cGFkZGluZzozMHB4IDAgMTVweH0qID4gYm9keXtiYWNrZ3JvdW5kOnVybCgvL3d3dy5nb29nbGUuY29tL2ltYWdlcy9lcnJvcnMvcm9ib3QucG5nKSAxMDAlIDVweCBuby1yZXBlYXQ7cGFkZGluZy1yaWdodDoyMDVweH1we21hcmdpbjoxMXB4IDAgMjJweDtvdmVyZmxvdzpoaWRkZW59aW5ze2NvbG9yOiM3Nzc7dGV4dC1kZWNvcmF0aW9uOm5vbmV9YSBpbWd7Ym9yZGVyOjB9QG1lZGlhIHNjcmVlbiBhbmQgKG1heC13aWR0aDo3NzJweCl7Ym9keXtiYWNrZ3JvdW5kOm5vbmU7bWFyZ2luLXRvcDowO21heC13aWR0aDpub25lO3BhZGRpbmctcmlnaHQ6MH19I2xvZ297YmFja2dyb3VuZDp1cmwoLy93d3cuZ29vZ2xlLmNvbS9pbWFnZXMvbG9nb3MvZXJyb3JwYWdlL2Vycm9yX2xvZ28tMTUweDU0LnBuZykgbm8tcmVwZWF0O21hcmdpbi1sZWZ0Oi01cHh9QG1lZGlhIG9ubHkgc2NyZWVuIGFuZCAobWluLXJlc29sdXRpb246MTkyZHBpKXsjbG9nb3tiYWNrZ3JvdW5kOnVybCgvL3d3dy5nb29nbGUuY29tL2ltYWdlcy9sb2dvcy9lcnJvcnBhZ2UvZXJyb3JfbG9nby0xNTB4NTQtMngucG5nKSBuby1yZXBlYXQgMCUgMCUvMTAwJSAxMDAlOy1tb3otYm9yZGVyLWltYWdlOnVybCgvL3d3dy5nb29nbGUuY29tL2ltYWdlcy9sb2dvcy9lcnJvcnBhZ2UvZXJyb3JfbG9nby0xNTB4NTQtMngucG5nKSAwfX1AbWVkaWEgb25seSBzY3JlZW4gYW5kICgtd2Via2l0LW1pbi1kZXZpY2UtcGl4ZWwtcmF0aW86Mil7I2xvZ297YmFja2dyb3VuZDp1cmwoLy93d3cuZ29vZ2xlLmNvbS9pbWFnZXMvbG9nb3MvZXJyb3JwYWdlL2Vycm9yX2xvZ28tMTUweDU0LTJ4LnBuZykgbm8tcmVwZWF0Oy13ZWJraXQtYmFja2dyb3VuZC1zaXplOjEwMCUgMTAwJX19I2xvZ297ZGlzcGxheTppbmxpbmUtYmxvY2s7aGVpZ2h0OjU0cHg7d2lkdGg6MTUwcHh9CiAgPC9zdHlsZT4KICA8YSBocmVmPS8vd3d3Lmdvb2dsZS5jb20vPjxzcGFuIGlkPWxvZ28gYXJpYS1sYWJlbD1Hb29nbGU+PC9zcGFuPjwvYT4KICA8cD48Yj40MDQuPC9iPiA8aW5zPlRoYXTigJlzIGFuIGVycm9yLjwvaW5zPgogIDxwPiAgPGlucz5UaGF04oCZcyBhbGwgd2Uga25vdy48L2lucz4K",
              "ok": false,
              "headers": [
                [
                  "content-length",
                  "1449"
                ],
                [
                  "content-type",
                  "text/html; charset=utf-8"
                ]
              ],
              "status": 404,
              "status_text": ""
            }
          },
          "base_uri": "https://localhost:8080/",
          "height": 521
        },
        "outputId": "d231bcdb-745d-403e-f3e7-7ae16ea48fee"
      },
      "cell_type": "code",
      "source": [
        "import IPython.display as ipyd\n",
        "ipyd.Image(url='ae.gif?{}'.format(np.random.rand()),\n",
        "           height=500, width=500)"
      ],
      "execution_count": 15,
      "outputs": [
        {
          "output_type": "execute_result",
          "data": {
            "text/html": [
              "<img src=\"ae.gif?0.8948893959166272\" width=\"500\" height=\"500\"/>"
            ],
            "text/plain": [
              "<IPython.core.display.Image object>"
            ]
          },
          "metadata": {
            "tags": []
          },
          "execution_count": 15
        }
      ]
    },
    {
      "metadata": {
        "id": "N_cFfT3HuOtf",
        "colab_type": "code",
        "colab": {}
      },
      "cell_type": "code",
      "source": [
        "from tensorflow.python.framework.ops import reset_default_graph"
      ],
      "execution_count": 0,
      "outputs": []
    },
    {
      "metadata": {
        "id": "R99T7grxyOlR",
        "colab_type": "code",
        "colab": {}
      },
      "cell_type": "code",
      "source": [
        "reset_default_graph()"
      ],
      "execution_count": 0,
      "outputs": []
    },
    {
      "metadata": {
        "id": "xVkjbdHd-rmn",
        "colab_type": "code",
        "colab": {
          "base_uri": "https://localhost:8080/",
          "height": 34
        },
        "outputId": "6668fc98-b680-42b3-a27c-e8ceb7074619"
      },
      "cell_type": "code",
      "source": [
        "X = tf.placeholder(tf.float32, [None, n_features])\n",
        "\n",
        "## Reshape placeholder to 4d for convolutional input\n",
        "## Batch dimension will be filled in place of -1 and\n",
        "## the shape of the image remains constant.\n",
        "X_tensor = tf.reshape(X, [-1, 28, 28, 1])\n",
        "\n",
        "n_filters = [16, 16, 16]\n",
        "filter_size = [4, 4, 4]\n",
        "\n",
        "current_input = X_tensor\n",
        "\n",
        "n_input = 1 # Number of channels in an image\n",
        "\n",
        "# Will use convolution to find 16 filters/channels of information\n",
        "Ws = []\n",
        "shapes = []\n",
        "\n",
        "for layer_i, n_output in enumerate(n_filters):\n",
        "    with tf.variable_scope('encoder/layer/{}'.format(layer_i)):\n",
        "        shapes.append(current_input.get_shape().as_list())\n",
        "        \n",
        "        W = tf.get_variable(\n",
        "            name='W',\n",
        "            shape=[\n",
        "                filter_size[layer_i], # height\n",
        "                filter_size[layer_i], # width\n",
        "                n_input, # No. of input channels\n",
        "                n_output # No. of output channels\n",
        "            ],\n",
        "            initializer=tf.random_normal_initializer(mean=0.0, stddev=0.02)\n",
        "        )\n",
        "        \n",
        "        # [1, 2, 2, 1]\n",
        "        # [batch_dimension, next height, next width, #channel]\n",
        "        # Take every image. Apply to every other height and width. \n",
        "        # Apply to every channel.\n",
        "        \n",
        "        h = tf.nn.conv2d(current_input, W, strides=[1, 2, 2, 1], padding='SAME')\n",
        "        \n",
        "        current_input = tf.nn.relu(h)\n",
        "        \n",
        "        Ws.append(W)\n",
        "        \n",
        "        n_input = n_output\n",
        "        \n",
        "Ws.reverse()\n",
        "shapes.reverse()\n",
        "n_filters.reverse()\n",
        "\n",
        "n_filters = n_filters[1:] + [1]\n",
        "\n",
        "print(n_filters, filter_size, shapes)\n",
        "\n",
        "for layer_i, shape in enumerate(shapes):\n",
        "    with tf.variable_scope('decoder/layer/{}'.format(layer_i)):\n",
        "        W = Ws[layer_i]\n",
        "        \n",
        "        h = tf.nn.conv2d_transpose(\n",
        "            current_input, W,\n",
        "            tf.stack([tf.shape(X)[0], shape[1], shape[2], shape[3]]),\n",
        "            strides=[1, 2, 2, 1], padding='SAME'\n",
        "        )\n",
        "        \n",
        "        current_input = tf.nn.relu(h)"
      ],
      "execution_count": 28,
      "outputs": [
        {
          "output_type": "stream",
          "text": [
            "[16, 16, 1] [4, 4, 4] [[None, 7, 7, 16], [None, 14, 14, 16], [None, 28, 28, 1]]\n"
          ],
          "name": "stdout"
        }
      ]
    },
    {
      "metadata": {
        "id": "pSum_o2M9OA2",
        "colab_type": "code",
        "colab": {
          "base_uri": "https://localhost:8080/",
          "height": 3121
        },
        "outputId": "3a6a8bbf-b539-4504-d148-0a4647620020"
      },
      "cell_type": "code",
      "source": [
        "Y = current_input\n",
        "Y = tf.reshape(Y, [-1, n_features])\n",
        "\n",
        "cost = tf.reduce_mean(tf.reduce_mean(tf.squared_difference(X, Y), 1))\n",
        "\n",
        "learning_rate = 0.001\n",
        "\n",
        "optimizer = tf.train.AdamOptimizer(learning_rate).minimize(cost)\n",
        "\n",
        "sess = tf.Session()\n",
        "\n",
        "sess.run(tf.initialize_all_variables())\n",
        "\n",
        "batch_size = 100\n",
        "n_epoch = 100\n",
        "\n",
        "examples = ds.X[:100]\n",
        "\n",
        "imgs = []\n",
        "fig, ax = plt.subplots(1, 1)\n",
        "for epoch_i in range(n_epochs):\n",
        "    for batch_X, _ in ds.train.next_batch():\n",
        "        sess.run(optimizer, feed_dict={X: batch_X - mean_img})\n",
        "    recon = sess.run(Y, feed_dict={X: examples - mean_img})\n",
        "    recon = np.clip((recon + mean_img).reshape((-1, 28, 28)), 0, 255)\n",
        "    img_i = montage(recon).astype(np.uint8)\n",
        "    imgs.append(img_i)\n",
        "    ax.imshow(img_i, cmap='gray')\n",
        "    fig.canvas.draw()\n",
        "    print(epoch_i, sess.run(cost, feed_dict={X: batch_X - mean_img}))\n",
        "gif.build_gif(imgs, saveto='conv-ae.gif', cmap='gray')"
      ],
      "execution_count": 29,
      "outputs": [
        {
          "output_type": "stream",
          "text": [
            "0 0.026844492\n",
            "1 0.025554216\n",
            "2 0.025352437\n",
            "3 0.024718065\n",
            "4 0.025983749\n",
            "5 0.025308141\n",
            "6 0.024075042\n",
            "7 0.023643197\n",
            "8 0.023709945\n",
            "9 0.024302058\n",
            "10 0.024283497\n",
            "11 0.024028117\n",
            "12 0.024721432\n",
            "13 0.024418565\n",
            "14 0.023546306\n",
            "15 0.02450718\n",
            "16 0.024654841\n",
            "17 0.023958411\n",
            "18 0.024228882\n",
            "19 0.023597052\n",
            "20 0.023827331\n",
            "21 0.024427956\n",
            "22 0.024387086\n",
            "23 0.023331387\n",
            "24 0.023769269\n",
            "25 0.022806099\n",
            "26 0.024007969\n",
            "27 0.023786802\n",
            "28 0.023718394\n",
            "29 0.024340322\n",
            "30 0.024063509\n",
            "31 0.0240895\n",
            "32 0.023865046\n",
            "33 0.023669591\n",
            "34 0.023713306\n",
            "35 0.024459194\n",
            "36 0.022769056\n",
            "37 0.02382164\n",
            "38 0.024916677\n",
            "39 0.023901664\n",
            "40 0.02319762\n",
            "41 0.023602832\n",
            "42 0.024451964\n",
            "43 0.0232032\n",
            "44 0.023763012\n",
            "45 0.023716167\n",
            "46 0.023582112\n",
            "47 0.02401094\n",
            "48 0.023276484\n",
            "49 0.023732746\n",
            "50 0.023866117\n",
            "51 0.023421906\n",
            "52 0.023570698\n",
            "53 0.02424761\n",
            "54 0.023337021\n",
            "55 0.02352902\n",
            "56 0.023583781\n",
            "57 0.023782648\n",
            "58 0.023901206\n",
            "59 0.024200115\n",
            "60 0.023388175\n",
            "61 0.02294472\n",
            "62 0.023867302\n",
            "63 0.023477433\n",
            "64 0.023146197\n",
            "65 0.023758989\n",
            "66 0.023969745\n",
            "67 0.023089033\n",
            "68 0.023435209\n",
            "69 0.023420691\n",
            "70 0.023976913\n",
            "71 0.023857398\n",
            "72 0.024141598\n",
            "73 0.023963679\n",
            "74 0.024056181\n",
            "75 0.024084097\n",
            "76 0.024195123\n",
            "77 0.024010548\n",
            "78 0.023384629\n",
            "79 0.023266964\n",
            "80 0.022811346\n",
            "81 0.024533078\n",
            "82 0.023906443\n",
            "83 0.023805244\n",
            "84 0.024002673\n",
            "85 0.024237264\n",
            "86 0.024032218\n",
            "87 0.023308557\n",
            "88 0.02337543\n",
            "89 0.024461713\n",
            "90 0.02362735\n",
            "91 0.023793913\n",
            "92 0.023668101\n",
            "93 0.024053967\n",
            "94 0.022853542\n",
            "95 0.023200428\n",
            "96 0.02286594\n",
            "97 0.022992441\n",
            "98 0.023189193\n",
            "99 0.02393876\n"
          ],
          "name": "stdout"
        },
        {
          "output_type": "stream",
          "text": [
            "/usr/local/lib/python3.6/dist-packages/matplotlib/animation.py:1218: UserWarning: MovieWriter imagemagick unavailable\n",
            "  warnings.warn(\"MovieWriter %s unavailable\" % writer)\n"
          ],
          "name": "stderr"
        },
        {
          "output_type": "error",
          "ename": "ValueError",
          "evalue": "ignored",
          "traceback": [
            "\u001b[0;31m---------------------------------------------------------------------------\u001b[0m",
            "\u001b[0;31mValueError\u001b[0m                                Traceback (most recent call last)",
            "\u001b[0;32m<ipython-input-29-242dce8761f1>\u001b[0m in \u001b[0;36m<module>\u001b[0;34m()\u001b[0m\n\u001b[1;32m     29\u001b[0m     \u001b[0mfig\u001b[0m\u001b[0;34m.\u001b[0m\u001b[0mcanvas\u001b[0m\u001b[0;34m.\u001b[0m\u001b[0mdraw\u001b[0m\u001b[0;34m(\u001b[0m\u001b[0;34m)\u001b[0m\u001b[0;34m\u001b[0m\u001b[0m\n\u001b[1;32m     30\u001b[0m     \u001b[0mprint\u001b[0m\u001b[0;34m(\u001b[0m\u001b[0mepoch_i\u001b[0m\u001b[0;34m,\u001b[0m \u001b[0msess\u001b[0m\u001b[0;34m.\u001b[0m\u001b[0mrun\u001b[0m\u001b[0;34m(\u001b[0m\u001b[0mcost\u001b[0m\u001b[0;34m,\u001b[0m \u001b[0mfeed_dict\u001b[0m\u001b[0;34m=\u001b[0m\u001b[0;34m{\u001b[0m\u001b[0mX\u001b[0m\u001b[0;34m:\u001b[0m \u001b[0mbatch_X\u001b[0m \u001b[0;34m-\u001b[0m \u001b[0mmean_img\u001b[0m\u001b[0;34m}\u001b[0m\u001b[0;34m)\u001b[0m\u001b[0;34m)\u001b[0m\u001b[0;34m\u001b[0m\u001b[0m\n\u001b[0;32m---> 31\u001b[0;31m \u001b[0mgif\u001b[0m\u001b[0;34m.\u001b[0m\u001b[0mbuild_gif\u001b[0m\u001b[0;34m(\u001b[0m\u001b[0mimgs\u001b[0m\u001b[0;34m,\u001b[0m \u001b[0msaveto\u001b[0m\u001b[0;34m=\u001b[0m\u001b[0;34m'conv-ae.gif'\u001b[0m\u001b[0;34m,\u001b[0m \u001b[0mcmap\u001b[0m\u001b[0;34m=\u001b[0m\u001b[0;34m'gray'\u001b[0m\u001b[0;34m)\u001b[0m\u001b[0;34m\u001b[0m\u001b[0m\n\u001b[0m",
            "\u001b[0;32m/content/libs/gif.py\u001b[0m in \u001b[0;36mbuild_gif\u001b[0;34m(imgs, interval, dpi, save_gif, saveto, show_gif, cmap)\u001b[0m\n\u001b[1;32m     57\u001b[0m \u001b[0;34m\u001b[0m\u001b[0m\n\u001b[1;32m     58\u001b[0m     \u001b[0;32mif\u001b[0m \u001b[0msave_gif\u001b[0m\u001b[0;34m:\u001b[0m\u001b[0;34m\u001b[0m\u001b[0m\n\u001b[0;32m---> 59\u001b[0;31m         \u001b[0mani\u001b[0m\u001b[0;34m.\u001b[0m\u001b[0msave\u001b[0m\u001b[0;34m(\u001b[0m\u001b[0msaveto\u001b[0m\u001b[0;34m,\u001b[0m \u001b[0mwriter\u001b[0m\u001b[0;34m=\u001b[0m\u001b[0;34m'imagemagick'\u001b[0m\u001b[0;34m,\u001b[0m \u001b[0mdpi\u001b[0m\u001b[0;34m=\u001b[0m\u001b[0mdpi\u001b[0m\u001b[0;34m)\u001b[0m\u001b[0;34m\u001b[0m\u001b[0m\n\u001b[0m\u001b[1;32m     60\u001b[0m \u001b[0;34m\u001b[0m\u001b[0m\n\u001b[1;32m     61\u001b[0m     \u001b[0;32mif\u001b[0m \u001b[0mshow_gif\u001b[0m\u001b[0;34m:\u001b[0m\u001b[0;34m\u001b[0m\u001b[0m\n",
            "\u001b[0;32m/usr/local/lib/python3.6/dist-packages/matplotlib/animation.py\u001b[0m in \u001b[0;36msave\u001b[0;34m(self, filename, writer, fps, dpi, codec, bitrate, extra_args, metadata, extra_anim, savefig_kwargs)\u001b[0m\n\u001b[1;32m   1249\u001b[0m                                level='helpful')\n\u001b[1;32m   1250\u001b[0m                 \u001b[0mrcParams\u001b[0m\u001b[0;34m[\u001b[0m\u001b[0;34m'savefig.bbox'\u001b[0m\u001b[0;34m]\u001b[0m \u001b[0;34m=\u001b[0m \u001b[0;32mNone\u001b[0m\u001b[0;34m\u001b[0m\u001b[0m\n\u001b[0;32m-> 1251\u001b[0;31m             \u001b[0;32mwith\u001b[0m \u001b[0mwriter\u001b[0m\u001b[0;34m.\u001b[0m\u001b[0msaving\u001b[0m\u001b[0;34m(\u001b[0m\u001b[0mself\u001b[0m\u001b[0;34m.\u001b[0m\u001b[0m_fig\u001b[0m\u001b[0;34m,\u001b[0m \u001b[0mfilename\u001b[0m\u001b[0;34m,\u001b[0m \u001b[0mdpi\u001b[0m\u001b[0;34m)\u001b[0m\u001b[0;34m:\u001b[0m\u001b[0;34m\u001b[0m\u001b[0m\n\u001b[0m\u001b[1;32m   1252\u001b[0m                 \u001b[0;32mfor\u001b[0m \u001b[0manim\u001b[0m \u001b[0;32min\u001b[0m \u001b[0mall_anim\u001b[0m\u001b[0;34m:\u001b[0m\u001b[0;34m\u001b[0m\u001b[0m\n\u001b[1;32m   1253\u001b[0m                     \u001b[0;31m# Clear the initial frame\u001b[0m\u001b[0;34m\u001b[0m\u001b[0;34m\u001b[0m\u001b[0m\n",
            "\u001b[0;32m/usr/lib/python3.6/contextlib.py\u001b[0m in \u001b[0;36m__enter__\u001b[0;34m(self)\u001b[0m\n\u001b[1;32m     79\u001b[0m     \u001b[0;32mdef\u001b[0m \u001b[0m__enter__\u001b[0m\u001b[0;34m(\u001b[0m\u001b[0mself\u001b[0m\u001b[0;34m)\u001b[0m\u001b[0;34m:\u001b[0m\u001b[0;34m\u001b[0m\u001b[0m\n\u001b[1;32m     80\u001b[0m         \u001b[0;32mtry\u001b[0m\u001b[0;34m:\u001b[0m\u001b[0;34m\u001b[0m\u001b[0m\n\u001b[0;32m---> 81\u001b[0;31m             \u001b[0;32mreturn\u001b[0m \u001b[0mnext\u001b[0m\u001b[0;34m(\u001b[0m\u001b[0mself\u001b[0m\u001b[0;34m.\u001b[0m\u001b[0mgen\u001b[0m\u001b[0;34m)\u001b[0m\u001b[0;34m\u001b[0m\u001b[0m\n\u001b[0m\u001b[1;32m     82\u001b[0m         \u001b[0;32mexcept\u001b[0m \u001b[0mStopIteration\u001b[0m\u001b[0;34m:\u001b[0m\u001b[0;34m\u001b[0m\u001b[0m\n\u001b[1;32m     83\u001b[0m             \u001b[0;32mraise\u001b[0m \u001b[0mRuntimeError\u001b[0m\u001b[0;34m(\u001b[0m\u001b[0;34m\"generator didn't yield\"\u001b[0m\u001b[0;34m)\u001b[0m \u001b[0;32mfrom\u001b[0m \u001b[0;32mNone\u001b[0m\u001b[0;34m\u001b[0m\u001b[0m\n",
            "\u001b[0;32m/usr/local/lib/python3.6/dist-packages/matplotlib/animation.py\u001b[0m in \u001b[0;36msaving\u001b[0;34m(self, fig, outfile, dpi, *args, **kwargs)\u001b[0m\n\u001b[1;32m    231\u001b[0m         '''\n\u001b[1;32m    232\u001b[0m         \u001b[0;31m# This particular sequence is what contextlib.contextmanager wants\u001b[0m\u001b[0;34m\u001b[0m\u001b[0;34m\u001b[0m\u001b[0m\n\u001b[0;32m--> 233\u001b[0;31m         \u001b[0mself\u001b[0m\u001b[0;34m.\u001b[0m\u001b[0msetup\u001b[0m\u001b[0;34m(\u001b[0m\u001b[0mfig\u001b[0m\u001b[0;34m,\u001b[0m \u001b[0moutfile\u001b[0m\u001b[0;34m,\u001b[0m \u001b[0mdpi\u001b[0m\u001b[0;34m,\u001b[0m \u001b[0;34m*\u001b[0m\u001b[0margs\u001b[0m\u001b[0;34m,\u001b[0m \u001b[0;34m**\u001b[0m\u001b[0mkwargs\u001b[0m\u001b[0;34m)\u001b[0m\u001b[0;34m\u001b[0m\u001b[0m\n\u001b[0m\u001b[1;32m    234\u001b[0m         \u001b[0;32mtry\u001b[0m\u001b[0;34m:\u001b[0m\u001b[0;34m\u001b[0m\u001b[0m\n\u001b[1;32m    235\u001b[0m             \u001b[0;32myield\u001b[0m \u001b[0mself\u001b[0m\u001b[0;34m\u001b[0m\u001b[0m\n",
            "\u001b[0;32m/usr/local/lib/python3.6/dist-packages/matplotlib/animation.py\u001b[0m in \u001b[0;36msetup\u001b[0;34m(self, fig, outfile, dpi, frame_dir)\u001b[0m\n\u001b[1;32m    939\u001b[0m     \u001b[0;32mdef\u001b[0m \u001b[0msetup\u001b[0m\u001b[0;34m(\u001b[0m\u001b[0mself\u001b[0m\u001b[0;34m,\u001b[0m \u001b[0mfig\u001b[0m\u001b[0;34m,\u001b[0m \u001b[0moutfile\u001b[0m\u001b[0;34m,\u001b[0m \u001b[0mdpi\u001b[0m\u001b[0;34m,\u001b[0m \u001b[0mframe_dir\u001b[0m\u001b[0;34m=\u001b[0m\u001b[0;32mNone\u001b[0m\u001b[0;34m)\u001b[0m\u001b[0;34m:\u001b[0m\u001b[0;34m\u001b[0m\u001b[0m\n\u001b[1;32m    940\u001b[0m         \u001b[0;32mif\u001b[0m \u001b[0mos\u001b[0m\u001b[0;34m.\u001b[0m\u001b[0mpath\u001b[0m\u001b[0;34m.\u001b[0m\u001b[0msplitext\u001b[0m\u001b[0;34m(\u001b[0m\u001b[0moutfile\u001b[0m\u001b[0;34m)\u001b[0m\u001b[0;34m[\u001b[0m\u001b[0;34m-\u001b[0m\u001b[0;36m1\u001b[0m\u001b[0;34m]\u001b[0m \u001b[0;32mnot\u001b[0m \u001b[0;32min\u001b[0m \u001b[0;34m[\u001b[0m\u001b[0;34m'.html'\u001b[0m\u001b[0;34m,\u001b[0m \u001b[0;34m'.htm'\u001b[0m\u001b[0;34m]\u001b[0m\u001b[0;34m:\u001b[0m\u001b[0;34m\u001b[0m\u001b[0m\n\u001b[0;32m--> 941\u001b[0;31m             \u001b[0;32mraise\u001b[0m \u001b[0mValueError\u001b[0m\u001b[0;34m(\u001b[0m\u001b[0;34m\"outfile must be *.htm or *.html\"\u001b[0m\u001b[0;34m)\u001b[0m\u001b[0;34m\u001b[0m\u001b[0m\n\u001b[0m\u001b[1;32m    942\u001b[0m \u001b[0;34m\u001b[0m\u001b[0m\n\u001b[1;32m    943\u001b[0m         \u001b[0;32mif\u001b[0m \u001b[0;32mnot\u001b[0m \u001b[0mself\u001b[0m\u001b[0;34m.\u001b[0m\u001b[0membed_frames\u001b[0m\u001b[0;34m:\u001b[0m\u001b[0;34m\u001b[0m\u001b[0m\n",
            "\u001b[0;31mValueError\u001b[0m: outfile must be *.htm or *.html"
          ]
        },
        {
          "output_type": "display_data",
          "data": {
            "image/png": "[encoded data removed]",
            "text/plain": [
              "<matplotlib.figure.Figure at 0x7f902f7a9780>"
            ]
          },
          "metadata": {
            "tags": []
          }
        },
        {
          "output_type": "display_data",
          "data": {
            "image/png": "[encoded data removed]",
            "text/plain": [
              "<matplotlib.figure.Figure at 0x7f90126f9278>"
            ]
          },
          "metadata": {
            "tags": []
          }
        }
      ]
    },
    {
      "metadata": {
        "id": "qjKGJVVR-xcU",
        "colab_type": "code",
        "colab": {}
      },
      "cell_type": "code",
      "source": [
        ""
      ],
      "execution_count": 0,
      "outputs": []
    }
  ]
}