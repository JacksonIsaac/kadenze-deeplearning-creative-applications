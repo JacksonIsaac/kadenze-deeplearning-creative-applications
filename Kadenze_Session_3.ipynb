{
  "nbformat": 4,
  "nbformat_minor": 0,
  "metadata": {
    "colab": {
      "name": "Kadenze-Session-3.ipynb",
      "version": "0.3.2",
      "provenance": [],
      "collapsed_sections": [],
      "include_colab_link": true
    },
    "kernelspec": {
      "name": "python3",
      "display_name": "Python 3"
    },
    "accelerator": "GPU"
  },
  "cells": [
    {
      "cell_type": "markdown",
      "metadata": {
        "id": "view-in-github",
        "colab_type": "text"
      },
      "source": [
        "[View in Colaboratory](https://colab.research.google.com/github/JacksonIsaac/kadenze-deeplearning-creative-applications/blob/master/Kadenze_Session_3.ipynb)"
      ]
    },
    {
      "metadata": {
        "id": "sOqj_LhRwcgT",
        "colab_type": "code",
        "colab": {}
      },
      "cell_type": "code",
      "source": [
        "%matplotlib inline\n",
        "#%pylab\n",
        "\n",
        "import numpy as np\n",
        "import tensorflow as tf\n",
        "import matplotlib.pyplot as plt\n",
        "import matplotlib.colors as colors\n",
        "import matplotlib.cm as cmx\n",
        "\n",
        "plt.style.use('ggplot')"
      ],
      "execution_count": 0,
      "outputs": []
    },
    {
      "metadata": {
        "id": "DZ4EIY-C6vB-",
        "colab_type": "code",
        "colab": {
          "base_uri": "https://localhost:8080/",
          "height": 51
        },
        "outputId": "2be63272-028c-4471-f086-b6de43985452"
      },
      "cell_type": "code",
      "source": [
        "!git clone https://github.com/JacksonIsaac/CADL.git\n",
        "!mv CADL/session-3/* ."
      ],
      "execution_count": 2,
      "outputs": [
        {
          "output_type": "stream",
          "text": [
            "fatal: destination path 'CADL' already exists and is not an empty directory.\n",
            "mv: cannot stat 'CADL/session-3/*': No such file or directory\n"
          ],
          "name": "stdout"
        }
      ]
    },
    {
      "metadata": {
        "id": "NjKlqvlN8lvp",
        "colab_type": "code",
        "colab": {}
      },
      "cell_type": "code",
      "source": [
        "from libs.utils import montage\n",
        "from libs import gif\n",
        "from libs.datasets import MNIST"
      ],
      "execution_count": 0,
      "outputs": []
    },
    {
      "metadata": {
        "id": "vFjONRiY9WsE",
        "colab_type": "code",
        "colab": {
          "base_uri": "https://localhost:8080/",
          "height": 411
        },
        "outputId": "94e6477f-f6dc-4ef0-aa4e-17dbea635953"
      },
      "cell_type": "code",
      "source": [
        "ds = MNIST()"
      ],
      "execution_count": 4,
      "outputs": [
        {
          "output_type": "stream",
          "text": [
            "WARNING:tensorflow:From /content/libs/datasets.py:18: read_data_sets (from tensorflow.contrib.learn.python.learn.datasets.mnist) is deprecated and will be removed in a future version.\n",
            "Instructions for updating:\n",
            "Please use alternatives such as official/mnist/dataset.py from tensorflow/models.\n",
            "WARNING:tensorflow:From /usr/local/lib/python3.6/dist-packages/tensorflow/contrib/learn/python/learn/datasets/mnist.py:260: maybe_download (from tensorflow.contrib.learn.python.learn.datasets.base) is deprecated and will be removed in a future version.\n",
            "Instructions for updating:\n",
            "Please write your own downloading logic.\n",
            "WARNING:tensorflow:From /usr/local/lib/python3.6/dist-packages/tensorflow/contrib/learn/python/learn/datasets/mnist.py:262: extract_images (from tensorflow.contrib.learn.python.learn.datasets.mnist) is deprecated and will be removed in a future version.\n",
            "Instructions for updating:\n",
            "Please use tf.data to implement this functionality.\n",
            "Extracting MNIST_data/train-images-idx3-ubyte.gz\n",
            "WARNING:tensorflow:From /usr/local/lib/python3.6/dist-packages/tensorflow/contrib/learn/python/learn/datasets/mnist.py:267: extract_labels (from tensorflow.contrib.learn.python.learn.datasets.mnist) is deprecated and will be removed in a future version.\n",
            "Instructions for updating:\n",
            "Please use tf.data to implement this functionality.\n",
            "Extracting MNIST_data/train-labels-idx1-ubyte.gz\n",
            "WARNING:tensorflow:From /usr/local/lib/python3.6/dist-packages/tensorflow/contrib/learn/python/learn/datasets/mnist.py:110: dense_to_one_hot (from tensorflow.contrib.learn.python.learn.datasets.mnist) is deprecated and will be removed in a future version.\n",
            "Instructions for updating:\n",
            "Please use tf.one_hot on tensors.\n",
            "Extracting MNIST_data/t10k-images-idx3-ubyte.gz\n",
            "Extracting MNIST_data/t10k-labels-idx1-ubyte.gz\n",
            "WARNING:tensorflow:From /usr/local/lib/python3.6/dist-packages/tensorflow/contrib/learn/python/learn/datasets/mnist.py:290: DataSet.__init__ (from tensorflow.contrib.learn.python.learn.datasets.mnist) is deprecated and will be removed in a future version.\n",
            "Instructions for updating:\n",
            "Please use alternatives such as official/mnist/dataset.py from tensorflow/models.\n"
          ],
          "name": "stdout"
        }
      ]
    },
    {
      "metadata": {
        "id": "TWCZzDd9_mC2",
        "colab_type": "code",
        "colab": {
          "base_uri": "https://localhost:8080/",
          "height": 34
        },
        "outputId": "ea1aa307-e07e-4b4f-93f5-8f458bce167d"
      },
      "cell_type": "code",
      "source": [
        "ds.X.shape"
      ],
      "execution_count": 5,
      "outputs": [
        {
          "output_type": "execute_result",
          "data": {
            "text/plain": [
              "(70000, 784)"
            ]
          },
          "metadata": {
            "tags": []
          },
          "execution_count": 5
        }
      ]
    },
    {
      "metadata": {
        "id": "OmNW7SJjAAlT",
        "colab_type": "code",
        "colab": {
          "base_uri": "https://localhost:8080/",
          "height": 282
        },
        "outputId": "92badc86-9a26-43ce-afde-1f82ec145fd2"
      },
      "cell_type": "code",
      "source": [
        "plt.imshow(ds.X[0].reshape((28,28)))"
      ],
      "execution_count": 6,
      "outputs": [
        {
          "output_type": "execute_result",
          "data": {
            "text/plain": [
              "<matplotlib.image.AxesImage at 0x7f1dcfef0eb8>"
            ]
          },
          "metadata": {
            "tags": []
          },
          "execution_count": 6
        },
        {
          "output_type": "display_data",
          "data": {
            "image/png": "[encoded data removed]",
            "text/plain": [
              "<matplotlib.figure.Figure at 0x7f1dd09d02b0>"
            ]
          },
          "metadata": {
            "tags": []
          }
        }
      ]
    },
    {
      "metadata": {
        "id": "dhXtPOxWAJVi",
        "colab_type": "code",
        "colab": {
          "base_uri": "https://localhost:8080/",
          "height": 286
        },
        "outputId": "4ea2471b-9a97-4972-a85f-4a6ac1a49467"
      },
      "cell_type": "code",
      "source": [
        "imgs = ds.X[:1000].reshape((-1, 28, 28))\n",
        "plt.imshow(montage(imgs), cmap='gray')"
      ],
      "execution_count": 7,
      "outputs": [
        {
          "output_type": "execute_result",
          "data": {
            "text/plain": [
              "<matplotlib.image.AxesImage at 0x7f1dcd5f6d30>"
            ]
          },
          "metadata": {
            "tags": []
          },
          "execution_count": 7
        },
        {
          "output_type": "display_data",
          "data": {
            "image/png": "[encoded data removed]",
            "text/plain": [
              "<matplotlib.figure.Figure at 0x7f1e1eddd198>"
            ]
          },
          "metadata": {
            "tags": []
          }
        }
      ]
    },
    {
      "metadata": {
        "id": "Hb9EXOc_AZ_p",
        "colab_type": "code",
        "colab": {
          "base_uri": "https://localhost:8080/",
          "height": 282
        },
        "outputId": "fd30e69b-61ce-4956-c995-b623671b8db5"
      },
      "cell_type": "code",
      "source": [
        "mean_img = np.mean(ds.X, axis=0)\n",
        "plt.figure()\n",
        "plt.imshow(mean_img.reshape((28, 28)), cmap='gray')"
      ],
      "execution_count": 8,
      "outputs": [
        {
          "output_type": "execute_result",
          "data": {
            "text/plain": [
              "<matplotlib.image.AxesImage at 0x7f1dcd5d8be0>"
            ]
          },
          "metadata": {
            "tags": []
          },
          "execution_count": 8
        },
        {
          "output_type": "display_data",
          "data": {
            "image/png": "[encoded data removed]",
            "text/plain": [
              "<matplotlib.figure.Figure at 0x7f1dcff30668>"
            ]
          },
          "metadata": {
            "tags": []
          }
        }
      ]
    },
    {
      "metadata": {
        "id": "20T8wG2NAmhg",
        "colab_type": "code",
        "colab": {
          "base_uri": "https://localhost:8080/",
          "height": 282
        },
        "outputId": "68ebf9bd-5cd7-4fe6-c042-9eb0ac98aff7"
      },
      "cell_type": "code",
      "source": [
        "std_img = np.std(ds.X, axis=0)\n",
        "plt.figure()\n",
        "plt.imshow(std_img.reshape((28, 28)), cmap='gray')"
      ],
      "execution_count": 9,
      "outputs": [
        {
          "output_type": "execute_result",
          "data": {
            "text/plain": [
              "<matplotlib.image.AxesImage at 0x7f1dcd53f1d0>"
            ]
          },
          "metadata": {
            "tags": []
          },
          "execution_count": 9
        },
        {
          "output_type": "display_data",
          "data": {
            "image/png": "[encoded data removed]",
            "text/plain": [
              "<matplotlib.figure.Figure at 0x7f1dcd5b6400>"
            ]
          },
          "metadata": {
            "tags": []
          }
        }
      ]
    },
    {
      "metadata": {
        "id": "UKpB3jNjsMS_",
        "colab_type": "code",
        "colab": {}
      },
      "cell_type": "code",
      "source": [
        "dimensions = [512, 256, 128, 64]"
      ],
      "execution_count": 0,
      "outputs": []
    },
    {
      "metadata": {
        "id": "q9sERE4LsxTs",
        "colab_type": "code",
        "colab": {
          "base_uri": "https://localhost:8080/",
          "height": 34
        },
        "outputId": "b9a2acaa-3d67-4899-ff10-9f6c29782523"
      },
      "cell_type": "code",
      "source": [
        "n_features = ds.X.shape[1]\n",
        "\n",
        "## [None, n] means that it can have any no of rows m\n",
        "X = tf.placeholder(tf.float32, [None, n_features])\n",
        "\n",
        "current_input = X\n",
        "n_input = n_features\n",
        "\n",
        "\n",
        "## For Encoder\n",
        "Ws = []\n",
        "\n",
        "for layer_i, n_output in enumerate(dimensions):\n",
        "    with tf.variable_scope('encoder/layer/{}'.format(layer_i)):\n",
        "        \n",
        "        W = tf.get_variable(\n",
        "            name = 'W',\n",
        "            shape = [n_input, n_output],\n",
        "            initializer = tf.random_normal_initializer(mean=0.0, stddev=0.02)\n",
        "        )\n",
        "        \n",
        "        h = tf.matmul(current_input, W)\n",
        "        \n",
        "        current_input = tf.nn.relu(h)\n",
        "        \n",
        "        Ws.append(W)\n",
        "        \n",
        "        n_input = n_output\n",
        "        \n",
        "Ws = Ws[::-1]\n",
        "\n",
        "dimensions = dimensions[::-1][1:] + [ds.X.shape[1]]\n",
        "\n",
        "print(dimensions)\n",
        "\n",
        "## Decoder\n",
        "\n",
        "for layer_i, n_output in enumerate(dimensions):\n",
        "    with tf.variable_scope('decoder/layer/{}'.format(layer_i)):\n",
        "        \n",
        "        W = tf.transpose(Ws[layer_i])\n",
        "        \n",
        "        h = tf.matmul(current_input, W)\n",
        "        \n",
        "        current_input = tf.nn.relu(h)\n",
        "        \n",
        "        n_input = n_output"
      ],
      "execution_count": 11,
      "outputs": [
        {
          "output_type": "stream",
          "text": [
            "[128, 256, 512, 784]\n"
          ],
          "name": "stdout"
        }
      ]
    },
    {
      "metadata": {
        "id": "YjjkfUTXagaq",
        "colab_type": "code",
        "colab": {
          "base_uri": "https://localhost:8080/",
          "height": 34
        },
        "outputId": "411ed3c9-955a-433d-9650-b9263390b882"
      },
      "cell_type": "code",
      "source": [
        "Y = current_input\n",
        "\n",
        "cost = tf.reduce_mean(tf.squared_difference(X, Y), 1)\n",
        "\n",
        "print(cost.get_shape())"
      ],
      "execution_count": 12,
      "outputs": [
        {
          "output_type": "stream",
          "text": [
            "(?,)\n"
          ],
          "name": "stdout"
        }
      ]
    },
    {
      "metadata": {
        "id": "Kq27ZgCnpV1N",
        "colab_type": "code",
        "colab": {
          "base_uri": "https://localhost:8080/",
          "height": 1969
        },
        "outputId": "887c1e15-7dd3-4633-f27f-a3861ca2757a"
      },
      "cell_type": "code",
      "source": [
        "cost = tf.reduce_mean(cost)\n",
        "\n",
        "learning_rate = 0.001\n",
        "optimizer = tf.train.AdamOptimizer(learning_rate).minimize(cost)\n",
        "\n",
        "sess = tf.Session()\n",
        "sess.run(tf.global_variables_initializer())\n",
        "\n",
        "batch_size = 100\n",
        "n_epochs = 10\n",
        "\n",
        "examples = ds.X[:100]\n",
        "\n",
        "imgs = []\n",
        "\n",
        "fig, ax = plt.subplots(1,1)\n",
        "\n",
        "for epoch_i in range(n_epochs):\n",
        "    for batch_X, _ in ds.train.next_batch():\n",
        "        sess.run(optimizer, feed_dict={X: batch_X - mean_img})\n",
        "    recon = sess.run(Y, feed_dict={X: examples - mean_img})\n",
        "    recon = np.clip((recon + mean_img).reshape((-1, 28,28)), 0, 255)\n",
        "    \n",
        "    img_i = montage(recon).astype(np.uint8)\n",
        "    imgs.append(img_i)\n",
        "    \n",
        "    ax.imshow(img_i, cmap='gray')\n",
        "    \n",
        "    fig.canvas.draw()\n",
        "    \n",
        "    print(epoch_i, sess.run(cost, feed_dict={X: batch_X - mean_img}))\n",
        "    \n",
        "#gif.build_gif(imgs, saveto='ae.gif', cmap='gray')"
      ],
      "execution_count": 13,
      "outputs": [
        {
          "output_type": "stream",
          "text": [
            "0 0.045469638\n",
            "1 0.0368985\n",
            "2 0.033883274\n",
            "3 0.032092784\n",
            "4 0.029683132\n",
            "5 0.030717824\n",
            "6 0.030414123\n",
            "7 0.02940402\n",
            "8 0.029065864\n",
            "9 0.028139152\n",
            "10 0.027839493\n",
            "11 0.027875245\n",
            "12 0.02771985\n",
            "13 0.02745212\n",
            "14 0.02720318\n",
            "15 0.027344692\n",
            "16 0.027864574\n",
            "17 0.026812125\n",
            "18 0.026795292\n",
            "19 0.02610302\n",
            "20 0.02740057\n",
            "21 0.027012415\n",
            "22 0.026669879\n",
            "23 0.026392644\n",
            "24 0.026271863\n",
            "25 0.025984237\n",
            "26 0.02713754\n",
            "27 0.026484475\n",
            "28 0.02611655\n",
            "29 0.026114898\n",
            "30 0.025690539\n",
            "31 0.025444668\n",
            "32 0.025149098\n",
            "33 0.025735341\n",
            "34 0.025848918\n",
            "35 0.026535043\n",
            "36 0.025453646\n",
            "37 0.026388299\n",
            "38 0.025997054\n",
            "39 0.025305517\n",
            "40 0.025663571\n",
            "41 0.02572911\n",
            "42 0.026020154\n",
            "43 0.025139876\n",
            "44 0.025249112\n",
            "45 0.025859611\n",
            "46 0.02593031\n",
            "47 0.024765013\n",
            "48 0.025362756\n",
            "49 0.025636477\n",
            "50 0.025041224\n",
            "51 0.026028372\n",
            "52 0.024597371\n",
            "53 0.025199292\n",
            "54 0.024743922\n",
            "55 0.025165258\n",
            "56 0.026599336\n",
            "57 0.024687538\n",
            "58 0.024764681\n",
            "59 0.02467741\n",
            "60 0.024841165\n",
            "61 0.025679665\n",
            "62 0.025672155\n",
            "63 0.025318509\n",
            "64 0.02489946\n",
            "65 0.026017895\n",
            "66 0.024887772\n",
            "67 0.02507961\n",
            "68 0.025913985\n",
            "69 0.02478309\n",
            "70 0.024151633\n",
            "71 0.02461227\n",
            "72 0.025525533\n",
            "73 0.025118895\n",
            "74 0.024496034\n",
            "75 0.024970628\n",
            "76 0.025810925\n",
            "77 0.024222398\n",
            "78 0.024664817\n",
            "79 0.025147464\n",
            "80 0.026000084\n",
            "81 0.025620472\n",
            "82 0.025732255\n",
            "83 0.024497647\n",
            "84 0.024650628\n",
            "85 0.025774674\n",
            "86 0.02491395\n",
            "87 0.024761282\n",
            "88 0.024471223\n",
            "89 0.024893282\n",
            "90 0.024656313\n",
            "91 0.02434652\n",
            "92 0.024466353\n",
            "93 0.02386493\n",
            "94 0.026224326\n",
            "95 0.024696782\n",
            "96 0.02528717\n",
            "97 0.023766685\n",
            "98 0.025333518\n",
            "99 0.024968248\n"
          ],
          "name": "stdout"
        },
        {
          "output_type": "display_data",
          "data": {
            "image/png": "[encoded data removed]",
            "text/plain": [
              "<matplotlib.figure.Figure at 0x7f1dcd481828>"
            ]
          },
          "metadata": {
            "tags": []
          }
        }
      ]
    },
    {
      "metadata": {
        "id": "EFvT-1zxrOsC",
        "colab_type": "code",
        "colab": {}
      },
      "cell_type": "code",
      "source": [
        "#import IPython.display as ipyd\n",
        "#ipyd.Image(url='ae.gif?{}'.format(np.random.rand()),\n",
        "#           height=500, width=500)"
      ],
      "execution_count": 0,
      "outputs": []
    },
    {
      "metadata": {
        "id": "N_cFfT3HuOtf",
        "colab_type": "code",
        "colab": {}
      },
      "cell_type": "code",
      "source": [
        "from tensorflow.python.framework.ops import reset_default_graph"
      ],
      "execution_count": 0,
      "outputs": []
    },
    {
      "metadata": {
        "id": "R99T7grxyOlR",
        "colab_type": "code",
        "colab": {}
      },
      "cell_type": "code",
      "source": [
        "reset_default_graph()"
      ],
      "execution_count": 0,
      "outputs": []
    },
    {
      "metadata": {
        "id": "xVkjbdHd-rmn",
        "colab_type": "code",
        "colab": {
          "base_uri": "https://localhost:8080/",
          "height": 34
        },
        "outputId": "fbf2cfcd-6714-4a1e-9961-6c54d84ed996"
      },
      "cell_type": "code",
      "source": [
        "X = tf.placeholder(tf.float32, [None, n_features])\n",
        "\n",
        "## Reshape placeholder to 4d for convolutional input\n",
        "## Batch dimension will be filled in place of -1 and\n",
        "## the shape of the image remains constant.\n",
        "X_tensor = tf.reshape(X, [-1, 28, 28, 1])\n",
        "\n",
        "n_filters = [16, 16, 16]\n",
        "filter_size = [4, 4, 4]\n",
        "\n",
        "current_input = X_tensor\n",
        "\n",
        "n_input = 1 # Number of channels in an image\n",
        "\n",
        "# Will use convolution to find 16 filters/channels of information\n",
        "Ws = []\n",
        "shapes = []\n",
        "\n",
        "for layer_i, n_output in enumerate(n_filters):\n",
        "    with tf.variable_scope('encoder/layer/{}'.format(layer_i)):\n",
        "        shapes.append(current_input.get_shape().as_list())\n",
        "        \n",
        "        W = tf.get_variable(\n",
        "            name='W',\n",
        "            shape=[\n",
        "                filter_size[layer_i], # height\n",
        "                filter_size[layer_i], # width\n",
        "                n_input, # No. of input channels\n",
        "                n_output # No. of output channels\n",
        "            ],\n",
        "            initializer=tf.random_normal_initializer(mean=0.0, stddev=0.02)\n",
        "        )\n",
        "        \n",
        "        # [1, 2, 2, 1]\n",
        "        # [batch_dimension, next height, next width, #channel]\n",
        "        # Take every image. Apply to every other height and width. \n",
        "        # Apply to every channel.\n",
        "        \n",
        "        h = tf.nn.conv2d(current_input, W, strides=[1, 2, 2, 1], padding='SAME')\n",
        "        \n",
        "        current_input = tf.nn.relu(h)\n",
        "        \n",
        "        Ws.append(W)\n",
        "        \n",
        "        n_input = n_output\n",
        "        \n",
        "Ws.reverse()\n",
        "shapes.reverse()\n",
        "n_filters.reverse()\n",
        "\n",
        "n_filters = n_filters[1:] + [1]\n",
        "\n",
        "print(n_filters, filter_size, shapes)\n",
        "\n",
        "for layer_i, shape in enumerate(shapes):\n",
        "    with tf.variable_scope('decoder/layer/{}'.format(layer_i)):\n",
        "        W = Ws[layer_i]\n",
        "        \n",
        "        h = tf.nn.conv2d_transpose(\n",
        "            current_input, W,\n",
        "            tf.stack([tf.shape(X)[0], shape[1], shape[2], shape[3]]),\n",
        "            strides=[1, 2, 2, 1], padding='SAME'\n",
        "        )\n",
        "        \n",
        "        current_input = tf.nn.relu(h)"
      ],
      "execution_count": 17,
      "outputs": [
        {
          "output_type": "stream",
          "text": [
            "[16, 16, 1] [4, 4, 4] [[None, 7, 7, 16], [None, 14, 14, 16], [None, 28, 28, 1]]\n"
          ],
          "name": "stdout"
        }
      ]
    },
    {
      "metadata": {
        "id": "pSum_o2M9OA2",
        "colab_type": "code",
        "colab": {
          "base_uri": "https://localhost:8080/",
          "height": 2040
        },
        "outputId": "2264c58f-a6e0-43c5-c51b-4d31ff06229f"
      },
      "cell_type": "code",
      "source": [
        "Y = current_input\n",
        "Y = tf.reshape(Y, [-1, n_features])\n",
        "\n",
        "cost = tf.reduce_mean(tf.reduce_mean(tf.squared_difference(X, Y), 1))\n",
        "\n",
        "learning_rate = 0.001\n",
        "\n",
        "optimizer = tf.train.AdamOptimizer(learning_rate).minimize(cost)\n",
        "\n",
        "sess = tf.Session()\n",
        "\n",
        "sess.run(tf.initialize_all_variables())\n",
        "\n",
        "batch_size = 100\n",
        "n_epoch = 10\n",
        "\n",
        "examples = ds.X[:100]\n",
        "\n",
        "imgs = []\n",
        "fig, ax = plt.subplots(1, 1)\n",
        "for epoch_i in range(n_epochs):\n",
        "    for batch_X, _ in ds.train.next_batch():\n",
        "        sess.run(optimizer, feed_dict={X: batch_X - mean_img})\n",
        "    recon = sess.run(Y, feed_dict={X: examples - mean_img})\n",
        "    recon = np.clip((recon + mean_img).reshape((-1, 28, 28)), 0, 255)\n",
        "    img_i = montage(recon).astype(np.uint8)\n",
        "    imgs.append(img_i)\n",
        "    ax.imshow(img_i, cmap='gray')\n",
        "    fig.canvas.draw()\n",
        "    print(epoch_i, sess.run(cost, feed_dict={X: batch_X - mean_img}))\n",
        "#gif.build_gif(imgs, saveto='conv-ae.gif', cmap='gray')"
      ],
      "execution_count": 18,
      "outputs": [
        {
          "output_type": "stream",
          "text": [
            "WARNING:tensorflow:From /usr/local/lib/python3.6/dist-packages/tensorflow/python/util/tf_should_use.py:118: initialize_all_variables (from tensorflow.python.ops.variables) is deprecated and will be removed after 2017-03-02.\n",
            "Instructions for updating:\n",
            "Use `tf.global_variables_initializer` instead.\n",
            "0 0.026331535\n",
            "1 0.024900869\n",
            "2 0.02439902\n",
            "3 0.025704691\n",
            "4 0.024725426\n",
            "5 0.025439287\n",
            "6 0.02509238\n",
            "7 0.024960622\n",
            "8 0.02436649\n",
            "9 0.023329472\n",
            "10 0.024501383\n",
            "11 0.024886288\n",
            "12 0.023679547\n",
            "13 0.024384394\n",
            "14 0.024900615\n",
            "15 0.024031606\n",
            "16 0.02463571\n",
            "17 0.0241411\n",
            "18 0.024095431\n",
            "19 0.024459625\n",
            "20 0.02381361\n",
            "21 0.023553228\n",
            "22 0.02514791\n",
            "23 0.024371695\n",
            "24 0.024124416\n",
            "25 0.024170065\n",
            "26 0.024152182\n",
            "27 0.024856769\n",
            "28 0.024202667\n",
            "29 0.02407361\n",
            "30 0.024092775\n",
            "31 0.023440989\n",
            "32 0.023282848\n",
            "33 0.024140503\n",
            "34 0.024367211\n",
            "35 0.024514217\n",
            "36 0.024504025\n",
            "37 0.024034271\n",
            "38 0.02404277\n",
            "39 0.023775093\n",
            "40 0.023893544\n",
            "41 0.024342038\n",
            "42 0.02299014\n",
            "43 0.023722196\n",
            "44 0.024350006\n",
            "45 0.023996526\n",
            "46 0.023717074\n",
            "47 0.02315684\n",
            "48 0.024317302\n",
            "49 0.024555523\n",
            "50 0.023660364\n",
            "51 0.023372168\n",
            "52 0.022710271\n",
            "53 0.023452224\n",
            "54 0.023682356\n",
            "55 0.023515241\n",
            "56 0.023085337\n",
            "57 0.024266696\n",
            "58 0.023405306\n",
            "59 0.023662267\n",
            "60 0.023817098\n",
            "61 0.023228101\n",
            "62 0.023241872\n",
            "63 0.024302373\n",
            "64 0.02474467\n",
            "65 0.023862176\n",
            "66 0.02407418\n",
            "67 0.02355211\n",
            "68 0.023416938\n",
            "69 0.024025647\n",
            "70 0.023840204\n",
            "71 0.022965135\n",
            "72 0.023842849\n",
            "73 0.023019979\n",
            "74 0.023738228\n",
            "75 0.023208076\n",
            "76 0.0229246\n",
            "77 0.02453964\n",
            "78 0.022961296\n",
            "79 0.023752194\n",
            "80 0.02305086\n",
            "81 0.023433711\n",
            "82 0.0240799\n",
            "83 0.022933133\n",
            "84 0.023008527\n",
            "85 0.023543797\n",
            "86 0.024032718\n",
            "87 0.0235775\n",
            "88 0.023326661\n",
            "89 0.024156919\n",
            "90 0.023625903\n",
            "91 0.024163751\n",
            "92 0.022710772\n",
            "93 0.024155162\n",
            "94 0.024167359\n",
            "95 0.023974992\n",
            "96 0.023387447\n",
            "97 0.0234305\n",
            "98 0.023347443\n",
            "99 0.023694532\n"
          ],
          "name": "stdout"
        },
        {
          "output_type": "display_data",
          "data": {
            "image/png": "[encoded data removed]",
            "text/plain": [
              "<matplotlib.figure.Figure at 0x7f1e1fd0e940>"
            ]
          },
          "metadata": {
            "tags": []
          }
        }
      ]
    },
    {
      "metadata": {
        "id": "Wd2Y4muIrqQI",
        "colab_type": "code",
        "colab": {}
      },
      "cell_type": "code",
      "source": [
        "from libs import datasets"
      ],
      "execution_count": 0,
      "outputs": []
    },
    {
      "metadata": {
        "id": "0KjVcmhlr-DE",
        "colab_type": "code",
        "colab": {
          "base_uri": "https://localhost:8080/",
          "height": 965
        },
        "outputId": "57e780a2-d757-43bc-cee6-3560770cf185"
      },
      "cell_type": "code",
      "source": [
        "ds = datasets.MNIST(one_hot=False)\n",
        "print(ds.Y[0])\n",
        "plt.imshow(np.reshape(ds.X[0], (28, 28)), cmap='gray')\n",
        "\n",
        "plt.figure()\n",
        "\n",
        "print(ds.Y[1])\n",
        "plt.imshow(np.reshape(ds.X[1], (28, 28)), cmap='gray')\n",
        "\n",
        "ds = datasets.MNIST(one_hot=True)\n",
        "\n",
        "plt.figure()\n",
        "\n",
        "print(ds.Y[0])\n",
        "plt.imshow(np.reshape(ds.X[0], (28, 28)), cmap='gray')"
      ],
      "execution_count": 20,
      "outputs": [
        {
          "output_type": "stream",
          "text": [
            "Extracting MNIST_data/train-images-idx3-ubyte.gz\n",
            "Extracting MNIST_data/train-labels-idx1-ubyte.gz\n",
            "Extracting MNIST_data/t10k-images-idx3-ubyte.gz\n",
            "Extracting MNIST_data/t10k-labels-idx1-ubyte.gz\n",
            "6\n",
            "7\n",
            "Extracting MNIST_data/train-images-idx3-ubyte.gz\n",
            "Extracting MNIST_data/train-labels-idx1-ubyte.gz\n",
            "Extracting MNIST_data/t10k-images-idx3-ubyte.gz\n",
            "Extracting MNIST_data/t10k-labels-idx1-ubyte.gz\n",
            "[0. 0. 0. 0. 1. 0. 0. 0. 0. 0.]\n"
          ],
          "name": "stdout"
        },
        {
          "output_type": "execute_result",
          "data": {
            "text/plain": [
              "<matplotlib.image.AxesImage at 0x7f1d8611eb00>"
            ]
          },
          "metadata": {
            "tags": []
          },
          "execution_count": 20
        },
        {
          "output_type": "display_data",
          "data": {
            "image/png": "[encoded data removed]",
            "text/plain": [
              "<matplotlib.figure.Figure at 0x7f1dcd54bdd8>"
            ]
          },
          "metadata": {
            "tags": []
          }
        },
        {
          "output_type": "display_data",
          "data": {
            "image/png": "[encoded data removed]",
            "text/plain": [
              "<matplotlib.figure.Figure at 0x7f1dcd6029b0>"
            ]
          },
          "metadata": {
            "tags": []
          }
        },
        {
          "output_type": "display_data",
          "data": {
            "image/png": "[encoded data removed]",
            "text/plain": [
              "<matplotlib.figure.Figure at 0x7f1d86b03e10>"
            ]
          },
          "metadata": {
            "tags": []
          }
        }
      ]
    },
    {
      "metadata": {
        "id": "yUkxFXLn-HYN",
        "colab_type": "code",
        "colab": {}
      },
      "cell_type": "code",
      "source": [
        "from libs import utils"
      ],
      "execution_count": 0,
      "outputs": []
    },
    {
      "metadata": {
        "id": "-r6CTlduu7Lh",
        "colab_type": "code",
        "colab": {
          "base_uri": "https://localhost:8080/",
          "height": 85
        },
        "outputId": "7e7fc268-1e43-4ff0-cd64-84d23f86bba4"
      },
      "cell_type": "code",
      "source": [
        "reset_default_graph()\n",
        "\n",
        "ds = datasets.MNIST(one_hot=True, split=[0.8, 0.1, 0.1])\n",
        "\n",
        "n_input = 28 * 28 # Input image dimensions\n",
        "n_output = 10 # 10 One-hot encoded output labels\n",
        "\n",
        "X = tf.placeholder(tf.float32, [None, n_input])\n",
        "Y = tf.placeholder(tf.float32, [None, n_output])\n",
        "\n",
        "## utils.linear returns weight, predictions.\n",
        "## Hence, For Y_pred we have used utils.linear(...)[0]\n",
        "Y_pred, W = utils.linear(\n",
        "    x=X,\n",
        "    n_output=n_output,\n",
        "    activation=tf.nn.softmax,\n",
        "    name='layer1')\n",
        "\n",
        "## Take log of Y_pred + Epsilon, where epsilon is very small number.\n",
        "## This makes sure that we are not taking log(0).\n",
        "cross_entropy = -tf.reduce_sum(Y * tf.log(Y_pred + 1e-12))\n",
        "\n",
        "learning_rate = 0.001\n",
        "\n",
        "optimizer = tf.train.AdamOptimizer(learning_rate).minimize(cross_entropy)\n",
        "\n",
        "predicted_y = tf.argmax(Y_pred, 1)\n",
        "actual_y = tf.argmax(Y, 1)\n",
        "\n",
        "correct_prediction = tf.equal(predicted_y, actual_y)\n",
        "accuracy = tf.reduce_mean(tf.cast(correct_prediction, \"float\"))"
      ],
      "execution_count": 22,
      "outputs": [
        {
          "output_type": "stream",
          "text": [
            "Extracting MNIST_data/train-images-idx3-ubyte.gz\n",
            "Extracting MNIST_data/train-labels-idx1-ubyte.gz\n",
            "Extracting MNIST_data/t10k-images-idx3-ubyte.gz\n",
            "Extracting MNIST_data/t10k-labels-idx1-ubyte.gz\n"
          ],
          "name": "stdout"
        }
      ]
    },
    {
      "metadata": {
        "id": "ULDs_OE--Bsu",
        "colab_type": "code",
        "colab": {
          "base_uri": "https://localhost:8080/",
          "height": 204
        },
        "outputId": "4acd5cf9-a774-4794-dd59-50ffb87a454d"
      },
      "cell_type": "code",
      "source": [
        "sess = tf.Session()\n",
        "sess.run(tf.global_variables_initializer())\n",
        "\n",
        "batch_size = 50\n",
        "n_epochs = 10\n",
        "\n",
        "## Training\n",
        "for epoch_i in range(n_epochs):\n",
        "    for batch_xs, batch_ys in ds.train.next_batch():\n",
        "        sess.run(optimizer, feed_dict={\n",
        "            X: batch_xs, Y: batch_ys\n",
        "        })\n",
        "    valid = ds.valid\n",
        "    print(sess.run(accuracy,\n",
        "                  feed_dict={\n",
        "                      X: valid.images,\n",
        "                      Y: valid.labels\n",
        "                  }))\n",
        "\n",
        "## Testing accuracy\n",
        "test = ds.test\n",
        "print(sess.run(accuracy,\n",
        "              feed_dict={\n",
        "                  X: test.images,\n",
        "                  Y: test.labels\n",
        "              }))"
      ],
      "execution_count": 23,
      "outputs": [
        {
          "output_type": "stream",
          "text": [
            "0.9004286\n",
            "0.91514283\n",
            "0.9192857\n",
            "0.91985714\n",
            "0.92157143\n",
            "0.9212857\n",
            "0.92228574\n",
            "0.9232857\n",
            "0.92385715\n",
            "0.9225714\n",
            "0.92914283\n"
          ],
          "name": "stdout"
        }
      ]
    },
    {
      "metadata": {
        "id": "TBlsTIjr_xeJ",
        "colab_type": "code",
        "colab": {
          "base_uri": "https://localhost:8080/",
          "height": 2091
        },
        "outputId": "04a647cf-30de-45cb-ba0b-fcc5f41c4be7"
      },
      "cell_type": "code",
      "source": [
        "g = tf.get_default_graph()\n",
        "[op.name for op in g.get_operations()]"
      ],
      "execution_count": 24,
      "outputs": [
        {
          "output_type": "execute_result",
          "data": {
            "text/plain": [
              "['Placeholder',\n",
              " 'Placeholder_1',\n",
              " 'layer1/W/Initializer/random_uniform/shape',\n",
              " 'layer1/W/Initializer/random_uniform/min',\n",
              " 'layer1/W/Initializer/random_uniform/max',\n",
              " 'layer1/W/Initializer/random_uniform/RandomUniform',\n",
              " 'layer1/W/Initializer/random_uniform/sub',\n",
              " 'layer1/W/Initializer/random_uniform/mul',\n",
              " 'layer1/W/Initializer/random_uniform',\n",
              " 'layer1/W',\n",
              " 'layer1/W/Assign',\n",
              " 'layer1/W/read',\n",
              " 'layer1/b/Initializer/Const',\n",
              " 'layer1/b',\n",
              " 'layer1/b/Assign',\n",
              " 'layer1/b/read',\n",
              " 'layer1/MatMul',\n",
              " 'layer1/h',\n",
              " 'layer1/Softmax',\n",
              " 'add/y',\n",
              " 'add',\n",
              " 'Log',\n",
              " 'mul',\n",
              " 'Const',\n",
              " 'Sum',\n",
              " 'Neg',\n",
              " 'gradients/Shape',\n",
              " 'gradients/grad_ys_0',\n",
              " 'gradients/Fill',\n",
              " 'gradients/Neg_grad/Neg',\n",
              " 'gradients/Sum_grad/Reshape/shape',\n",
              " 'gradients/Sum_grad/Reshape',\n",
              " 'gradients/Sum_grad/Shape',\n",
              " 'gradients/Sum_grad/Tile',\n",
              " 'gradients/mul_grad/Shape',\n",
              " 'gradients/mul_grad/Shape_1',\n",
              " 'gradients/mul_grad/BroadcastGradientArgs',\n",
              " 'gradients/mul_grad/Mul',\n",
              " 'gradients/mul_grad/Sum',\n",
              " 'gradients/mul_grad/Reshape',\n",
              " 'gradients/mul_grad/Mul_1',\n",
              " 'gradients/mul_grad/Sum_1',\n",
              " 'gradients/mul_grad/Reshape_1',\n",
              " 'gradients/mul_grad/tuple/group_deps',\n",
              " 'gradients/mul_grad/tuple/control_dependency',\n",
              " 'gradients/mul_grad/tuple/control_dependency_1',\n",
              " 'gradients/Log_grad/Reciprocal',\n",
              " 'gradients/Log_grad/mul',\n",
              " 'gradients/add_grad/Shape',\n",
              " 'gradients/add_grad/Shape_1',\n",
              " 'gradients/add_grad/BroadcastGradientArgs',\n",
              " 'gradients/add_grad/Sum',\n",
              " 'gradients/add_grad/Reshape',\n",
              " 'gradients/add_grad/Sum_1',\n",
              " 'gradients/add_grad/Reshape_1',\n",
              " 'gradients/add_grad/tuple/group_deps',\n",
              " 'gradients/add_grad/tuple/control_dependency',\n",
              " 'gradients/add_grad/tuple/control_dependency_1',\n",
              " 'gradients/layer1/Softmax_grad/mul',\n",
              " 'gradients/layer1/Softmax_grad/Sum/reduction_indices',\n",
              " 'gradients/layer1/Softmax_grad/Sum',\n",
              " 'gradients/layer1/Softmax_grad/Reshape/shape',\n",
              " 'gradients/layer1/Softmax_grad/Reshape',\n",
              " 'gradients/layer1/Softmax_grad/sub',\n",
              " 'gradients/layer1/Softmax_grad/mul_1',\n",
              " 'gradients/layer1/h_grad/BiasAddGrad',\n",
              " 'gradients/layer1/h_grad/tuple/group_deps',\n",
              " 'gradients/layer1/h_grad/tuple/control_dependency',\n",
              " 'gradients/layer1/h_grad/tuple/control_dependency_1',\n",
              " 'gradients/layer1/MatMul_grad/MatMul',\n",
              " 'gradients/layer1/MatMul_grad/MatMul_1',\n",
              " 'gradients/layer1/MatMul_grad/tuple/group_deps',\n",
              " 'gradients/layer1/MatMul_grad/tuple/control_dependency',\n",
              " 'gradients/layer1/MatMul_grad/tuple/control_dependency_1',\n",
              " 'beta1_power/initial_value',\n",
              " 'beta1_power',\n",
              " 'beta1_power/Assign',\n",
              " 'beta1_power/read',\n",
              " 'beta2_power/initial_value',\n",
              " 'beta2_power',\n",
              " 'beta2_power/Assign',\n",
              " 'beta2_power/read',\n",
              " 'layer1/W/Adam/Initializer/zeros/shape_as_tensor',\n",
              " 'layer1/W/Adam/Initializer/zeros/Const',\n",
              " 'layer1/W/Adam/Initializer/zeros',\n",
              " 'layer1/W/Adam',\n",
              " 'layer1/W/Adam/Assign',\n",
              " 'layer1/W/Adam/read',\n",
              " 'layer1/W/Adam_1/Initializer/zeros/shape_as_tensor',\n",
              " 'layer1/W/Adam_1/Initializer/zeros/Const',\n",
              " 'layer1/W/Adam_1/Initializer/zeros',\n",
              " 'layer1/W/Adam_1',\n",
              " 'layer1/W/Adam_1/Assign',\n",
              " 'layer1/W/Adam_1/read',\n",
              " 'layer1/b/Adam/Initializer/zeros',\n",
              " 'layer1/b/Adam',\n",
              " 'layer1/b/Adam/Assign',\n",
              " 'layer1/b/Adam/read',\n",
              " 'layer1/b/Adam_1/Initializer/zeros',\n",
              " 'layer1/b/Adam_1',\n",
              " 'layer1/b/Adam_1/Assign',\n",
              " 'layer1/b/Adam_1/read',\n",
              " 'Adam/learning_rate',\n",
              " 'Adam/beta1',\n",
              " 'Adam/beta2',\n",
              " 'Adam/epsilon',\n",
              " 'Adam/update_layer1/W/ApplyAdam',\n",
              " 'Adam/update_layer1/b/ApplyAdam',\n",
              " 'Adam/mul',\n",
              " 'Adam/Assign',\n",
              " 'Adam/mul_1',\n",
              " 'Adam/Assign_1',\n",
              " 'Adam',\n",
              " 'ArgMax/dimension',\n",
              " 'ArgMax',\n",
              " 'ArgMax_1/dimension',\n",
              " 'ArgMax_1',\n",
              " 'Equal',\n",
              " 'Cast',\n",
              " 'Const_1',\n",
              " 'Mean',\n",
              " 'init']"
            ]
          },
          "metadata": {
            "tags": []
          },
          "execution_count": 24
        }
      ]
    },
    {
      "metadata": {
        "id": "Ziv-ONPtBQJk",
        "colab_type": "code",
        "colab": {}
      },
      "cell_type": "code",
      "source": [
        "W = g.get_tensor_by_name('layer1/W:0')"
      ],
      "execution_count": 0,
      "outputs": []
    },
    {
      "metadata": {
        "id": "rmJwUEd3BcOU",
        "colab_type": "code",
        "colab": {}
      },
      "cell_type": "code",
      "source": [
        "W_arr = np.array(W.eval(session=sess))"
      ],
      "execution_count": 0,
      "outputs": []
    },
    {
      "metadata": {
        "id": "bW8a9VLkBfWZ",
        "colab_type": "code",
        "colab": {
          "base_uri": "https://localhost:8080/",
          "height": 34
        },
        "outputId": "f0370b66-4482-4894-d36f-f6473d8cbac5"
      },
      "cell_type": "code",
      "source": [
        "print(W_arr.shape)"
      ],
      "execution_count": 27,
      "outputs": [
        {
          "output_type": "stream",
          "text": [
            "(784, 10)\n"
          ],
          "name": "stdout"
        }
      ]
    },
    {
      "metadata": {
        "id": "-wUHdxJfBkPa",
        "colab_type": "code",
        "colab": {
          "base_uri": "https://localhost:8080/",
          "height": 165
        },
        "outputId": "aa9c0af5-61a7-4ae5-c60d-3b3df9c4e3e2"
      },
      "cell_type": "code",
      "source": [
        "fig, ax = plt.subplots(1, 10, figsize=(20, 3))\n",
        "for col_i in range(10):\n",
        "    ax[col_i].imshow(W_arr[:, col_i].reshape((28, 28)), cmap='coolwarm')\n"
      ],
      "execution_count": 28,
      "outputs": [
        {
          "output_type": "display_data",
          "data": {
            "image/png": "[encoded data removed]",
            "text/plain": [
              "<matplotlib.figure.Figure at 0x7f1dcd4a9da0>"
            ]
          },
          "metadata": {
            "tags": []
          }
        }
      ]
    },
    {
      "metadata": {
        "id": "hYVuS_4jHI8J",
        "colab_type": "code",
        "colab": {
          "base_uri": "https://localhost:8080/",
          "height": 34
        },
        "outputId": "d2850a7e-2d8c-4cda-f9ef-a5aa5a646a05"
      },
      "cell_type": "code",
      "source": [
        "reset_default_graph()\n",
        "\n",
        "g = tf.get_default_graph()\n",
        "print([op.name for op in g.get_operations()])"
      ],
      "execution_count": 29,
      "outputs": [
        {
          "output_type": "stream",
          "text": [
            "[]\n"
          ],
          "name": "stdout"
        }
      ]
    },
    {
      "metadata": {
        "id": "ldQ6FVLlanuA",
        "colab_type": "code",
        "colab": {
          "base_uri": "https://localhost:8080/",
          "height": 85
        },
        "outputId": "b19fa153-521b-44a8-c085-80c023060c3f"
      },
      "cell_type": "code",
      "source": [
        "mnist = datasets.MNIST(one_hot = True)\n",
        "\n",
        "n_inputs = 28 * 28\n",
        "n_outputs = 10\n",
        "\n",
        "X = tf.placeholder(tf.float32, [None, n_inputs])\n",
        "Y = tf.placeholder(tf.float32, [None, n_outputs])\n",
        "\n",
        "## For convlution NN we require 4D \n",
        "## N * H * W * Ch\n",
        "X_4d = tf.reshape(X, [-1, 28, 28, 1])\n",
        "\n",
        "filter_size = 5\n",
        "\n",
        "n_filters_in = 1 # One channel as input\n",
        "n_filters_out = 32 # 32 filters (channels of information as output)\n",
        "\n",
        "W_1 = tf.get_variable(\n",
        "    name='W',\n",
        "    # shape = [Height, width, no of input channels, no of output channels]\n",
        "    shape=[filter_size, filter_size, n_filters_in, n_filters_out],\n",
        "    initializer=tf.random_normal_initializer())\n",
        "\n",
        "## Input image will be down-sized by 2 when we set strides as 2 i.e., 1,2,2,1\n",
        "\n",
        "## bias is size of no of output channels since we will apply bias after\n",
        "## the convolution is performed.\n",
        "b_1 = tf.get_variable(name='b',\n",
        "                     shape=[n_filters_out],\n",
        "                     initializer=tf.constant_initializer())\n",
        "\n",
        "h_1 = tf.nn.relu(\n",
        "    tf.nn.bias_add(\n",
        "        tf.nn.conv2d(\n",
        "            input=X_4d,\n",
        "            filter=W_1,\n",
        "            strides=[1, 2, 2, 1],\n",
        "            padding='SAME'),\n",
        "    b_1))"
      ],
      "execution_count": 33,
      "outputs": [
        {
          "output_type": "stream",
          "text": [
            "Extracting MNIST_data/train-images-idx3-ubyte.gz\n",
            "Extracting MNIST_data/train-labels-idx1-ubyte.gz\n",
            "Extracting MNIST_data/t10k-images-idx3-ubyte.gz\n",
            "Extracting MNIST_data/t10k-labels-idx1-ubyte.gz\n"
          ],
          "name": "stdout"
        }
      ]
    },
    {
      "metadata": {
        "id": "coQU5q24eX3n",
        "colab_type": "code",
        "colab": {}
      },
      "cell_type": "code",
      "source": [
        ""
      ],
      "execution_count": 0,
      "outputs": []
    }
  ]
}