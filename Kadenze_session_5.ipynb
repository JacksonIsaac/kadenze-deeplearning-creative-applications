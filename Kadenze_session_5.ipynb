{
  "nbformat": 4,
  "nbformat_minor": 0,
  "metadata": {
    "colab": {
      "name": "Kadenze-session-5.ipynb",
      "version": "0.3.2",
      "provenance": [],
      "collapsed_sections": [],
      "include_colab_link": true
    },
    "kernelspec": {
      "name": "python3",
      "display_name": "Python 3"
    },
    "accelerator": "GPU"
  },
  "cells": [
    {
      "cell_type": "markdown",
      "metadata": {
        "id": "view-in-github",
        "colab_type": "text"
      },
      "source": [
        "[View in Colaboratory](https://colab.research.google.com/github/JacksonIsaac/kadenze-deeplearning-creative-applications/blob/master/Kadenze_session_5.ipynb)"
      ]
    },
    {
      "metadata": {
        "id": "KLq419HujyNt",
        "colab_type": "text"
      },
      "cell_type": "markdown",
      "source": [
        "# Kadenze Session 5 - Generative Models"
      ]
    },
    {
      "metadata": {
        "id": "tPC2Jqw1kTh2",
        "colab_type": "code",
        "colab": {}
      },
      "cell_type": "code",
      "source": [
        "#!rm -rf ./*\n",
        "!git clone -q https://github.com/JacksonIsaac/CADL.git\n",
        "!mv CADL/session-5/* ."
      ],
      "execution_count": 0,
      "outputs": []
    },
    {
      "metadata": {
        "id": "pp_bZxWrpVAy",
        "colab_type": "code",
        "colab": {
          "base_uri": "https://localhost:8080/",
          "height": 119
        },
        "outputId": "95ef403b-7daa-45f2-9083-e8e46a46eb66"
      },
      "cell_type": "code",
      "source": [
        "!pip uninstall -q -y matplotlib && pip install -q matplotlib==2.0.2\n",
        "!apt-get install -y -q axel imagemagick"
      ],
      "execution_count": 5,
      "outputs": [
        {
          "output_type": "stream",
          "text": [
            "Reading package lists...\n",
            "Building dependency tree...\n",
            "Reading state information...\n",
            "axel is already the newest version (2.13.1-1).\n",
            "imagemagick is already the newest version (8:6.9.7.4+dfsg-16ubuntu2.3).\n",
            "0 upgraded, 0 newly installed, 0 to remove and 0 not upgraded.\n"
          ],
          "name": "stdout"
        }
      ]
    },
    {
      "metadata": {
        "id": "pvSDEEgrqJab",
        "colab_type": "code",
        "colab": {
          "base_uri": "https://localhost:8080/",
          "height": 119
        },
        "outputId": "84983395-cc5d-43bd-c78a-bca8f4561aa1"
      },
      "cell_type": "code",
      "source": [
        "!ls"
      ],
      "execution_count": 3,
      "outputs": [
        {
          "output_type": "stream",
          "text": [
            "alice.txt.gz\t parag.png\t\t trump.ckpt.data-00000-of-00001\n",
            "arles.png\t README.md\t\t trump.ckpt.index\n",
            "CADL\t\t sample_data\t\t trump.ckpt.meta\n",
            "clinton.png\t session-5-part-1.ipynb  trump.txt\n",
            "lecture-5.ipynb  session-5-part-2.ipynb\n",
            "libs\t\t tests\n"
          ],
          "name": "stdout"
        }
      ]
    },
    {
      "metadata": {
        "id": "auxjc4QupZHh",
        "colab_type": "text"
      },
      "cell_type": "markdown",
      "source": [
        "# Import packages"
      ]
    },
    {
      "metadata": {
        "id": "AL-KwqlOp5hk",
        "colab_type": "code",
        "colab": {}
      },
      "cell_type": "code",
      "source": [
        "%matplotlib inline\n",
        "\n",
        "import matplotlib.pyplot as plt\n",
        "import tensorflow as tf\n",
        "import numpy as np\n",
        "\n",
        "from libs.datasets import CELEB"
      ],
      "execution_count": 0,
      "outputs": []
    },
    {
      "metadata": {
        "id": "9QVLVrY7qdzx",
        "colab_type": "text"
      },
      "cell_type": "markdown",
      "source": [
        "# Prepare dataset and set up data pipeline"
      ]
    },
    {
      "metadata": {
        "id": "W9AjGH8_qVDp",
        "colab_type": "code",
        "colab": {
          "base_uri": "https://localhost:8080/",
          "height": 71
        },
        "outputId": "d6e44277-a159-4516-efab-f060f536f552"
      },
      "cell_type": "code",
      "source": [
        "#files = CELEB()"
      ],
      "execution_count": 5,
      "outputs": [
        {
          "output_type": "stream",
          "text": [
            "Could not find celeb dataset under ./img_align_celeba/.\n",
            "Try downloading the dataset from the \"Aligned and Cropped\" link located here (imgs/img_align_celeba.zip [1.34 GB]): http://mmlab.ie.cuhk.edu.hk/projects/CelebA.html\n"
          ],
          "name": "stdout"
        }
      ]
    },
    {
      "metadata": {
        "id": "4uVuG7ssq5Z3",
        "colab_type": "code",
        "colab": {}
      },
      "cell_type": "code",
      "source": [
        "!pip install -q kaggle"
      ],
      "execution_count": 0,
      "outputs": []
    },
    {
      "metadata": {
        "id": "Y0yTiJqQthUZ",
        "colab_type": "code",
        "colab": {
          "base_uri": "https://localhost:8080/",
          "height": 34
        },
        "outputId": "056c491e-4e97-4041-b639-67ea5714a201"
      },
      "cell_type": "code",
      "source": [
        "## Load Kaggle config JSON\n",
        "from googleapiclient.discovery import build\n",
        "import io, os\n",
        "from googleapiclient.http import MediaIoBaseDownload\n",
        "from google.colab import auth\n",
        "\n",
        "auth.authenticate_user()\n",
        "\n",
        "drive_service = build('drive', 'v3')\n",
        "results = drive_service.files().list(\n",
        "        q=\"name = 'kaggle.json'\", fields=\"files(id)\").execute()\n",
        "kaggle_api_key = results.get('files', [])\n",
        "\n",
        "filename = \"/content/.kaggle/kaggle.json\"\n",
        "os.makedirs(os.path.dirname(filename), exist_ok=True)\n",
        "\n",
        "request = drive_service.files().get_media(fileId=kaggle_api_key[0]['id'])\n",
        "fh = io.FileIO(filename, 'wb')\n",
        "downloader = MediaIoBaseDownload(fh, request)\n",
        "done = False\n",
        "while done is False:\n",
        "    status, done = downloader.next_chunk()\n",
        "    print(\"Download %d%%.\" % int(status.progress() * 100))\n",
        "os.chmod(filename, 600)\n",
        "\n",
        "!mkdir ~/.kaggle\n",
        "!cp /content/.kaggle/kaggle.json ~/.kaggle/kaggle.json"
      ],
      "execution_count": 8,
      "outputs": [
        {
          "output_type": "stream",
          "text": [
            "Download 100%.\n"
          ],
          "name": "stdout"
        }
      ]
    },
    {
      "metadata": {
        "id": "Mu2zCCjutQuw",
        "colab_type": "code",
        "colab": {
          "base_uri": "https://localhost:8080/",
          "height": 68
        },
        "outputId": "32403a56-fc13-4898-e4b7-9b51f262068e"
      },
      "cell_type": "code",
      "source": [
        "!kaggle datasets download -d jessicali9530/celeba-dataset"
      ],
      "execution_count": 9,
      "outputs": [
        {
          "output_type": "stream",
          "text": [
            "Downloading celeba-dataset.zip to /content\n",
            "100% 1.21G/1.21G [00:15<00:00, 103MB/s] \n",
            "100% 1.21G/1.21G [00:15<00:00, 82.6MB/s]\n"
          ],
          "name": "stdout"
        }
      ]
    },
    {
      "metadata": {
        "id": "AigYJQ8RtYac",
        "colab_type": "code",
        "colab": {}
      },
      "cell_type": "code",
      "source": [
        "!unzip -q celeba-dataset img_align_celeba.zip"
      ],
      "execution_count": 0,
      "outputs": []
    },
    {
      "metadata": {
        "id": "iRmWPX0Kt76v",
        "colab_type": "code",
        "colab": {}
      },
      "cell_type": "code",
      "source": [
        "!unzip -q img_align_celeba"
      ],
      "execution_count": 0,
      "outputs": []
    },
    {
      "metadata": {
        "id": "DdfL2AGetyHU",
        "colab_type": "code",
        "colab": {}
      },
      "cell_type": "code",
      "source": [
        "files = CELEB()"
      ],
      "execution_count": 0,
      "outputs": []
    },
    {
      "metadata": {
        "id": "f7YPjBr4q3pG",
        "colab_type": "code",
        "colab": {}
      },
      "cell_type": "code",
      "source": [
        "from libs.dataset_utils import create_input_pipeline"
      ],
      "execution_count": 0,
      "outputs": []
    },
    {
      "metadata": {
        "id": "tk4dyWkYrf1B",
        "colab_type": "code",
        "colab": {}
      },
      "cell_type": "code",
      "source": [
        "batch_size = 100\n",
        "n_epochs = 10\n",
        "\n",
        "input_shape = [218, 178, 3]\n",
        "crop_shape = [64, 64, 3]\n",
        "\n",
        "crop_factor = 0.8\n",
        "\n",
        "batch = create_input_pipeline(\n",
        "    files = files,\n",
        "    batch_size = batch_size,\n",
        "    n_epochs = n_epochs,\n",
        "    crop_shape = crop_shape,\n",
        "    crop_factor = crop_factor,\n",
        "    shape = input_shape)"
      ],
      "execution_count": 0,
      "outputs": []
    },
    {
      "metadata": {
        "id": "6hkR26HAr4bP",
        "colab_type": "text"
      },
      "cell_type": "markdown",
      "source": [
        "# Tensorflow session setup"
      ]
    },
    {
      "metadata": {
        "id": "2nPxINOKrlAJ",
        "colab_type": "code",
        "colab": {}
      },
      "cell_type": "code",
      "source": [
        "sess = tf.Session()\n",
        "coord = tf.train.Coordinator()\n",
        "threads = tf.train.start_queue_runners(sess=sess, coord=coord)"
      ],
      "execution_count": 0,
      "outputs": []
    },
    {
      "metadata": {
        "id": "85oU1pFhrxZA",
        "colab_type": "code",
        "colab": {
          "base_uri": "https://localhost:8080/",
          "height": 51
        },
        "outputId": "25bd89c5-319f-4740-8e39-884e6433e9ae"
      },
      "cell_type": "code",
      "source": [
        "batch_xs = sess.run(batch)\n",
        "print(batch_xs.shape)\n",
        "print(batch_xs.dtype, np.max(batch_xs))"
      ],
      "execution_count": 16,
      "outputs": [
        {
          "output_type": "stream",
          "text": [
            "(100, 64, 64, 3)\n",
            "float32 255.0\n"
          ],
          "name": "stdout"
        }
      ]
    },
    {
      "metadata": {
        "id": "EHWXlWbrsXQF",
        "colab_type": "code",
        "colab": {
          "base_uri": "https://localhost:8080/",
          "height": 285
        },
        "outputId": "f8a79e58-466e-40e9-eacc-a28778d907f1"
      },
      "cell_type": "code",
      "source": [
        "plt.imshow(batch_xs[0] / 255.0)"
      ],
      "execution_count": 17,
      "outputs": [
        {
          "output_type": "execute_result",
          "data": {
            "text/plain": [
              "<matplotlib.image.AxesImage at 0x7f90842e1518>"
            ]
          },
          "metadata": {
            "tags": []
          },
          "execution_count": 17
        },
        {
          "output_type": "display_data",
          "data": {
            "image/png": "[encoded data removed]",
            "text/plain": [
              "<matplotlib.figure.Figure at 0x7f9084d974e0>"
            ]
          },
          "metadata": {
            "tags": []
          }
        }
      ]
    },
    {
      "metadata": {
        "id": "Cgb70CW-shUt",
        "colab_type": "text"
      },
      "cell_type": "markdown",
      "source": [
        "# Recurrent Neural Networks (RNN)"
      ]
    },
    {
      "metadata": {
        "id": "KPafHgNtBZDT",
        "colab_type": "text"
      },
      "cell_type": "markdown",
      "source": [
        "## Import text file data for LSTM"
      ]
    },
    {
      "metadata": {
        "id": "rPo3BLJW4rcM",
        "colab_type": "code",
        "colab": {}
      },
      "cell_type": "code",
      "source": [
        "from six.moves import urllib"
      ],
      "execution_count": 0,
      "outputs": []
    },
    {
      "metadata": {
        "id": "nGugpHT0BeXO",
        "colab_type": "code",
        "colab": {}
      },
      "cell_type": "code",
      "source": [
        "f, _ = urllib.request.urlretrieve('https://www.gutenberg.org/cache/epub/11/pg11.txt', 'alice.txt')"
      ],
      "execution_count": 0,
      "outputs": []
    },
    {
      "metadata": {
        "id": "mKEUjD7RC076",
        "colab_type": "code",
        "colab": {
          "base_uri": "https://localhost:8080/",
          "height": 68
        },
        "outputId": "6a168b96-d551-43d6-f588-6cd9ad7a7fa2"
      },
      "cell_type": "code",
      "source": [
        "!curl https://www.gutenberg.org/cache/epub/11/pg11.txt | gunzip > alice.txt"
      ],
      "execution_count": 42,
      "outputs": [
        {
          "output_type": "stream",
          "text": [
            "  % Total    % Received % Xferd  Average Speed   Time    Time     Time  Current\n",
            "                                 Dload  Upload   Total   Spent    Left  Speed\n",
            "\r  0     0    0     0    0     0      0      0 --:--:-- --:--:-- --:--:--     0\r100 60422  100 60422    0     0  60422      0  0:00:01 --:--:--  0:00:01  115k\n"
          ],
          "name": "stdout"
        }
      ]
    },
    {
      "metadata": {
        "id": "PCrRx_b8CBnE",
        "colab_type": "code",
        "colab": {}
      },
      "cell_type": "code",
      "source": [
        "with open('alice.txt', 'r', encoding=\"utf8\") as fp:\n",
        "    txt = fp.read()"
      ],
      "execution_count": 0,
      "outputs": []
    },
    {
      "metadata": {
        "id": "jC0xIQbbCnD8",
        "colab_type": "code",
        "colab": {
          "base_uri": "https://localhost:8080/",
          "height": 34
        },
        "outputId": "98de8135-de9b-4548-a6ea-bada41c2c718"
      },
      "cell_type": "code",
      "source": [
        "txt[:100]"
      ],
      "execution_count": 44,
      "outputs": [
        {
          "output_type": "execute_result",
          "data": {
            "text/plain": [
              "\"\\ufeffProject Gutenberg's Alice's Adventures in Wonderland, by Lewis Carroll\\n\\nThis eBook is for the use o\""
            ]
          },
          "metadata": {
            "tags": []
          },
          "execution_count": 44
        }
      ]
    },
    {
      "metadata": {
        "id": "VvUGCvpXC3fN",
        "colab_type": "text"
      },
      "cell_type": "markdown",
      "source": [
        "## Let's create a set of all characters in the text file"
      ]
    },
    {
      "metadata": {
        "id": "dXSEmlYOGx_3",
        "colab_type": "code",
        "colab": {}
      },
      "cell_type": "code",
      "source": [
        "vocab = list(set(txt))"
      ],
      "execution_count": 0,
      "outputs": []
    },
    {
      "metadata": {
        "id": "8BhcK6dVG0yC",
        "colab_type": "code",
        "colab": {
          "base_uri": "https://localhost:8080/",
          "height": 34
        },
        "outputId": "b8348907-a2d5-4033-bbf3-0ba6b03b0aab"
      },
      "cell_type": "code",
      "source": [
        "len(txt), len(vocab)"
      ],
      "execution_count": 47,
      "outputs": [
        {
          "output_type": "execute_result",
          "data": {
            "text/plain": [
              "(163781, 85)"
            ]
          },
          "metadata": {
            "tags": []
          },
          "execution_count": 47
        }
      ]
    },
    {
      "metadata": {
        "id": "Rzox3pwjG5GR",
        "colab_type": "text"
      },
      "cell_type": "markdown",
      "source": [
        "## Next, we will create a lookup table to map char to int, and vice versa"
      ]
    },
    {
      "metadata": {
        "id": "dXR-O8sYHTB8",
        "colab_type": "code",
        "colab": {}
      },
      "cell_type": "code",
      "source": [
        "encoder = dict(zip(vocab, range(len(vocab))))\n",
        "decoder = dict(zip(range(len(vocab)), vocab))"
      ],
      "execution_count": 0,
      "outputs": []
    },
    {
      "metadata": {
        "id": "6lWhRan6Hnrq",
        "colab_type": "text"
      },
      "cell_type": "markdown",
      "source": [
        "## Create model parameters"
      ]
    },
    {
      "metadata": {
        "id": "HDaNRxrDHrDX",
        "colab_type": "code",
        "colab": {}
      },
      "cell_type": "code",
      "source": [
        "batch_size = 100\n",
        "seq_length = 100 # No of characters within a sequence\n",
        "n_cells = 256 # No of cells in RNN layer\n",
        "\n",
        "n_layers = 2\n",
        "\n",
        "n_chars = len(vocab)"
      ],
      "execution_count": 0,
      "outputs": []
    },
    {
      "metadata": {
        "id": "aQUWOvkAILf0",
        "colab_type": "text"
      },
      "cell_type": "markdown",
      "source": [
        "## Create tf placeholders"
      ]
    },
    {
      "metadata": {
        "id": "3hALrQKCIVfx",
        "colab_type": "code",
        "colab": {}
      },
      "cell_type": "code",
      "source": [
        "X = tf.placeholder(tf.int32, [None, seq_length], name='X')\n",
        "Y = tf.placeholder(tf.int32, [None, seq_length], name='Y')"
      ],
      "execution_count": 0,
      "outputs": []
    },
    {
      "metadata": {
        "id": "ecFdZNxOIkZp",
        "colab_type": "text"
      },
      "cell_type": "markdown",
      "source": [
        "### For MNIST, we used one hot encoded vector.\n",
        "### Here, we will use tf.nn.embedding_lookup"
      ]
    },
    {
      "metadata": {
        "id": "N8IUfK6kIuvY",
        "colab_type": "code",
        "colab": {
          "base_uri": "https://localhost:8080/",
          "height": 34
        },
        "outputId": "e91bf051-27e5-4153-c800-71998343359c"
      },
      "cell_type": "code",
      "source": [
        "embedding = tf.get_variable(\"embedding\", [n_chars, n_cells])\n",
        "Xs = tf.nn.embedding_lookup(embedding, X)\n",
        "\n",
        "print(Xs.get_shape().as_list())"
      ],
      "execution_count": 51,
      "outputs": [
        {
          "output_type": "stream",
          "text": [
            "[None, 100, 256]\n"
          ],
          "name": "stdout"
        }
      ]
    },
    {
      "metadata": {
        "id": "_Ns1uWKTJPlD",
        "colab_type": "code",
        "colab": {}
      },
      "cell_type": "code",
      "source": [
        ""
      ],
      "execution_count": 0,
      "outputs": []
    }
  ]
}