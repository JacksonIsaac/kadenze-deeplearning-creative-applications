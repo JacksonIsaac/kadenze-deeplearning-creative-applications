{
  "nbformat": 4,
  "nbformat_minor": 0,
  "metadata": {
    "colab": {
      "name": "Kadenze-session-5.ipynb",
      "version": "0.3.2",
      "provenance": [],
      "include_colab_link": true
    },
    "kernelspec": {
      "name": "python3",
      "display_name": "Python 3"
    }
  },
  "cells": [
    {
      "cell_type": "markdown",
      "metadata": {
        "id": "view-in-github",
        "colab_type": "text"
      },
      "source": [
        "[View in Colaboratory](https://colab.research.google.com/github/JacksonIsaac/kadenze-deeplearning-creative-applications/blob/master/Kadenze_session_5.ipynb)"
      ]
    },
    {
      "metadata": {
        "id": "KLq419HujyNt",
        "colab_type": "text"
      },
      "cell_type": "markdown",
      "source": [
        "# Kadenze Session 5 - Generative Models"
      ]
    },
    {
      "metadata": {
        "id": "tPC2Jqw1kTh2",
        "colab_type": "code",
        "colab": {}
      },
      "cell_type": "code",
      "source": [
        ""
      ],
      "execution_count": 0,
      "outputs": []
    }
  ]
}